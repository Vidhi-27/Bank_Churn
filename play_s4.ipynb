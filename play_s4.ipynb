{
 "cells": [
  {
   "cell_type": "code",
   "execution_count": 1,
   "id": "1326ec26",
   "metadata": {},
   "outputs": [],
   "source": [
    "import numpy as np\n",
    "import pandas as pd\n",
    "import matplotlib.pyplot as plt\n",
    "import seaborn as sns"
   ]
  },
  {
   "cell_type": "code",
   "execution_count": 2,
   "id": "ea633511",
   "metadata": {},
   "outputs": [],
   "source": [
    "df = pd.read_csv('train.csv')\n"
   ]
  },
  {
   "cell_type": "code",
   "execution_count": 3,
   "id": "1f2fae07",
   "metadata": {},
   "outputs": [
    {
     "data": {
      "text/html": [
       "<div>\n",
       "<style scoped>\n",
       "    .dataframe tbody tr th:only-of-type {\n",
       "        vertical-align: middle;\n",
       "    }\n",
       "\n",
       "    .dataframe tbody tr th {\n",
       "        vertical-align: top;\n",
       "    }\n",
       "\n",
       "    .dataframe thead th {\n",
       "        text-align: right;\n",
       "    }\n",
       "</style>\n",
       "<table border=\"1\" class=\"dataframe\">\n",
       "  <thead>\n",
       "    <tr style=\"text-align: right;\">\n",
       "      <th></th>\n",
       "      <th>id</th>\n",
       "      <th>CustomerId</th>\n",
       "      <th>Surname</th>\n",
       "      <th>CreditScore</th>\n",
       "      <th>Geography</th>\n",
       "      <th>Gender</th>\n",
       "      <th>Age</th>\n",
       "      <th>Tenure</th>\n",
       "      <th>Balance</th>\n",
       "      <th>NumOfProducts</th>\n",
       "      <th>HasCrCard</th>\n",
       "      <th>IsActiveMember</th>\n",
       "      <th>EstimatedSalary</th>\n",
       "      <th>Exited</th>\n",
       "    </tr>\n",
       "  </thead>\n",
       "  <tbody>\n",
       "    <tr>\n",
       "      <th>0</th>\n",
       "      <td>0</td>\n",
       "      <td>15674932</td>\n",
       "      <td>Okwudilichukwu</td>\n",
       "      <td>668</td>\n",
       "      <td>France</td>\n",
       "      <td>Male</td>\n",
       "      <td>33.0</td>\n",
       "      <td>3</td>\n",
       "      <td>0.00</td>\n",
       "      <td>2</td>\n",
       "      <td>1.0</td>\n",
       "      <td>0.0</td>\n",
       "      <td>181449.97</td>\n",
       "      <td>0</td>\n",
       "    </tr>\n",
       "    <tr>\n",
       "      <th>1</th>\n",
       "      <td>1</td>\n",
       "      <td>15749177</td>\n",
       "      <td>Okwudiliolisa</td>\n",
       "      <td>627</td>\n",
       "      <td>France</td>\n",
       "      <td>Male</td>\n",
       "      <td>33.0</td>\n",
       "      <td>1</td>\n",
       "      <td>0.00</td>\n",
       "      <td>2</td>\n",
       "      <td>1.0</td>\n",
       "      <td>1.0</td>\n",
       "      <td>49503.50</td>\n",
       "      <td>0</td>\n",
       "    </tr>\n",
       "    <tr>\n",
       "      <th>2</th>\n",
       "      <td>2</td>\n",
       "      <td>15694510</td>\n",
       "      <td>Hsueh</td>\n",
       "      <td>678</td>\n",
       "      <td>France</td>\n",
       "      <td>Male</td>\n",
       "      <td>40.0</td>\n",
       "      <td>10</td>\n",
       "      <td>0.00</td>\n",
       "      <td>2</td>\n",
       "      <td>1.0</td>\n",
       "      <td>0.0</td>\n",
       "      <td>184866.69</td>\n",
       "      <td>0</td>\n",
       "    </tr>\n",
       "    <tr>\n",
       "      <th>3</th>\n",
       "      <td>3</td>\n",
       "      <td>15741417</td>\n",
       "      <td>Kao</td>\n",
       "      <td>581</td>\n",
       "      <td>France</td>\n",
       "      <td>Male</td>\n",
       "      <td>34.0</td>\n",
       "      <td>2</td>\n",
       "      <td>148882.54</td>\n",
       "      <td>1</td>\n",
       "      <td>1.0</td>\n",
       "      <td>1.0</td>\n",
       "      <td>84560.88</td>\n",
       "      <td>0</td>\n",
       "    </tr>\n",
       "    <tr>\n",
       "      <th>4</th>\n",
       "      <td>4</td>\n",
       "      <td>15766172</td>\n",
       "      <td>Chiemenam</td>\n",
       "      <td>716</td>\n",
       "      <td>Spain</td>\n",
       "      <td>Male</td>\n",
       "      <td>33.0</td>\n",
       "      <td>5</td>\n",
       "      <td>0.00</td>\n",
       "      <td>2</td>\n",
       "      <td>1.0</td>\n",
       "      <td>1.0</td>\n",
       "      <td>15068.83</td>\n",
       "      <td>0</td>\n",
       "    </tr>\n",
       "  </tbody>\n",
       "</table>\n",
       "</div>"
      ],
      "text/plain": [
       "   id  CustomerId         Surname  CreditScore Geography Gender   Age  Tenure   \n",
       "0   0    15674932  Okwudilichukwu          668    France   Male  33.0       3  \\\n",
       "1   1    15749177   Okwudiliolisa          627    France   Male  33.0       1   \n",
       "2   2    15694510           Hsueh          678    France   Male  40.0      10   \n",
       "3   3    15741417             Kao          581    France   Male  34.0       2   \n",
       "4   4    15766172       Chiemenam          716     Spain   Male  33.0       5   \n",
       "\n",
       "     Balance  NumOfProducts  HasCrCard  IsActiveMember  EstimatedSalary   \n",
       "0       0.00              2        1.0             0.0        181449.97  \\\n",
       "1       0.00              2        1.0             1.0         49503.50   \n",
       "2       0.00              2        1.0             0.0        184866.69   \n",
       "3  148882.54              1        1.0             1.0         84560.88   \n",
       "4       0.00              2        1.0             1.0         15068.83   \n",
       "\n",
       "   Exited  \n",
       "0       0  \n",
       "1       0  \n",
       "2       0  \n",
       "3       0  \n",
       "4       0  "
      ]
     },
     "execution_count": 3,
     "metadata": {},
     "output_type": "execute_result"
    }
   ],
   "source": [
    "df.head()"
   ]
  },
  {
   "cell_type": "code",
   "execution_count": 4,
   "id": "59b481e1",
   "metadata": {},
   "outputs": [
    {
     "data": {
      "text/plain": [
       "id                   int64\n",
       "CustomerId           int64\n",
       "Surname             object\n",
       "CreditScore          int64\n",
       "Geography           object\n",
       "Gender              object\n",
       "Age                float64\n",
       "Tenure               int64\n",
       "Balance            float64\n",
       "NumOfProducts        int64\n",
       "HasCrCard          float64\n",
       "IsActiveMember     float64\n",
       "EstimatedSalary    float64\n",
       "Exited               int64\n",
       "dtype: object"
      ]
     },
     "execution_count": 4,
     "metadata": {},
     "output_type": "execute_result"
    }
   ],
   "source": [
    "df.dtypes"
   ]
  },
  {
   "cell_type": "code",
   "execution_count": 5,
   "id": "3f8d1b65",
   "metadata": {},
   "outputs": [
    {
     "data": {
      "text/plain": [
       "0"
      ]
     },
     "execution_count": 5,
     "metadata": {},
     "output_type": "execute_result"
    }
   ],
   "source": [
    "df.duplicated().sum()"
   ]
  },
  {
   "cell_type": "code",
   "execution_count": 6,
   "id": "d73ad026",
   "metadata": {},
   "outputs": [],
   "source": [
    "num = ['CreditScore','Age','Balance','Tenure','NumOfProducts','HasCrCard','IsActiveMember',\n",
    "'EstimatedSalary','Exited']\n",
    "cate = ['Surname','Gender','Geography']"
   ]
  },
  {
   "cell_type": "code",
   "execution_count": 7,
   "id": "779c3170",
   "metadata": {},
   "outputs": [],
   "source": [
    "df.drop(['id','CustomerId'],axis =1, inplace =True)"
   ]
  },
  {
   "cell_type": "markdown",
   "id": "42e558c1",
   "metadata": {},
   "source": [
    "DATA VISUALIZATION"
   ]
  },
  {
   "cell_type": "code",
   "execution_count": 8,
   "id": "a59b079b",
   "metadata": {},
   "outputs": [
    {
     "data": {
      "text/plain": [
       "Text(0.5, 1.0, 'Churn Customer Prediction visualization')"
      ]
     },
     "execution_count": 8,
     "metadata": {},
     "output_type": "execute_result"
    },
    {
     "data": {
      "image/png": "[encoded data removed]",
      "text/plain": [
       "<Figure size 640x480 with 1 Axes>"
      ]
     },
     "metadata": {},
     "output_type": "display_data"
    }
   ],
   "source": [
    "tenure_churn0 = df[df.Exited==0].EstimatedSalary\n",
    "tenure_churn1 = df[df.Exited==1].EstimatedSalary\n",
    "\n",
    "plt.hist([tenure_churn1,tenure_churn0],label=[\"Exited = Yes\",\"Exited = No\"])\n",
    "plt.legend()\n",
    "plt.ylabel(\"No. of cutsomers\")\n",
    "plt.xlabel(\"EstimatedSalary\")\n",
    "plt.title(\"Churn Customer Prediction visualization\")"
   ]
  },
  {
   "cell_type": "code",
   "execution_count": 9,
   "id": "9b23bd2a",
   "metadata": {},
   "outputs": [
    {
     "data": {
      "text/plain": [
       "Text(0.5, 1.0, 'Churn Customer Prediction visualization')"
      ]
     },
     "execution_count": 9,
     "metadata": {},
     "output_type": "execute_result"
    },
    {
     "data": {
      "image/png": "[encoded data removed]",
      "text/plain": [
       "<Figure size 640x480 with 1 Axes>"
      ]
     },
     "metadata": {},
     "output_type": "display_data"
    }
   ],
   "source": [
    "tenure_churn0 = df[df.Exited==0].Tenure\n",
    "tenure_churn1 = df[df.Exited==1].Tenure\n",
    "\n",
    "plt.hist([tenure_churn1,tenure_churn0],label=[\"Exited = Yes\",\"Exited = No\"])\n",
    "plt.legend()\n",
    "plt.ylabel(\"No. of cutsomers\")\n",
    "plt.xlabel(\"tenure\")\n",
    "plt.title(\"Churn Customer Prediction visualization\")"
   ]
  },
  {
   "cell_type": "code",
   "execution_count": 10,
   "id": "c083ec0d",
   "metadata": {},
   "outputs": [
    {
     "name": "stdout",
     "output_type": "stream",
     "text": [
      "Surname : ['Okwudilichukwu' 'Okwudiliolisa' 'Hsueh' ... 'Aliyev' 'McMinn' 'Elkins']\n",
      "Geography : ['France' 'Spain' 'Germany']\n",
      "Gender : ['Male' 'Female']\n"
     ]
    }
   ],
   "source": [
    "for column in df:\n",
    "    if df[column].dtypes == 'object':\n",
    "        print(f'{column} : {df[column].unique()}')"
   ]
  },
  {
   "cell_type": "code",
   "execution_count": null,
   "id": "14777863",
   "metadata": {},
   "outputs": [],
   "source": []
  },
  {
   "cell_type": "code",
   "execution_count": null,
   "id": "f2083a0c",
   "metadata": {},
   "outputs": [],
   "source": []
  },
  {
   "cell_type": "code",
   "execution_count": 11,
   "id": "8116e443",
   "metadata": {},
   "outputs": [
    {
     "data": {
      "text/plain": [
       "CreditScore       -0.059291\n",
       "Age                0.968063\n",
       "Tenure             0.006490\n",
       "Balance            0.382020\n",
       "NumOfProducts      0.368278\n",
       "HasCrCard         -1.179255\n",
       "IsActiveMember     0.008920\n",
       "EstimatedSalary   -0.309022\n",
       "Exited             1.412215\n",
       "dtype: float64"
      ]
     },
     "execution_count": 11,
     "metadata": {},
     "output_type": "execute_result"
    }
   ],
   "source": [
    "df.skew(numeric_only=True)"
   ]
  },
  {
   "cell_type": "code",
   "execution_count": 12,
   "id": "eeaf96b4",
   "metadata": {},
   "outputs": [
    {
     "data": {
      "text/html": [
       "<div>\n",
       "<style scoped>\n",
       "    .dataframe tbody tr th:only-of-type {\n",
       "        vertical-align: middle;\n",
       "    }\n",
       "\n",
       "    .dataframe tbody tr th {\n",
       "        vertical-align: top;\n",
       "    }\n",
       "\n",
       "    .dataframe thead th {\n",
       "        text-align: right;\n",
       "    }\n",
       "</style>\n",
       "<table border=\"1\" class=\"dataframe\">\n",
       "  <thead>\n",
       "    <tr style=\"text-align: right;\">\n",
       "      <th></th>\n",
       "      <th>CreditScore</th>\n",
       "      <th>Age</th>\n",
       "      <th>Tenure</th>\n",
       "      <th>Balance</th>\n",
       "      <th>NumOfProducts</th>\n",
       "      <th>HasCrCard</th>\n",
       "      <th>IsActiveMember</th>\n",
       "      <th>EstimatedSalary</th>\n",
       "      <th>Exited</th>\n",
       "    </tr>\n",
       "  </thead>\n",
       "  <tbody>\n",
       "    <tr>\n",
       "      <th>CreditScore</th>\n",
       "      <td>1.000000</td>\n",
       "      <td>-0.008918</td>\n",
       "      <td>0.000942</td>\n",
       "      <td>0.006973</td>\n",
       "      <td>0.011361</td>\n",
       "      <td>-0.002828</td>\n",
       "      <td>0.014790</td>\n",
       "      <td>-0.001820</td>\n",
       "      <td>-0.027383</td>\n",
       "    </tr>\n",
       "    <tr>\n",
       "      <th>Age</th>\n",
       "      <td>-0.008918</td>\n",
       "      <td>1.000000</td>\n",
       "      <td>-0.010830</td>\n",
       "      <td>0.064318</td>\n",
       "      <td>-0.102195</td>\n",
       "      <td>-0.012111</td>\n",
       "      <td>0.003320</td>\n",
       "      <td>-0.005399</td>\n",
       "      <td>0.340768</td>\n",
       "    </tr>\n",
       "    <tr>\n",
       "      <th>Tenure</th>\n",
       "      <td>0.000942</td>\n",
       "      <td>-0.010830</td>\n",
       "      <td>1.000000</td>\n",
       "      <td>-0.009481</td>\n",
       "      <td>0.007335</td>\n",
       "      <td>0.005327</td>\n",
       "      <td>-0.005532</td>\n",
       "      <td>0.000971</td>\n",
       "      <td>-0.019565</td>\n",
       "    </tr>\n",
       "    <tr>\n",
       "      <th>Balance</th>\n",
       "      <td>0.006973</td>\n",
       "      <td>0.064318</td>\n",
       "      <td>-0.009481</td>\n",
       "      <td>1.000000</td>\n",
       "      <td>-0.361033</td>\n",
       "      <td>-0.018584</td>\n",
       "      <td>-0.015073</td>\n",
       "      <td>0.008586</td>\n",
       "      <td>0.129743</td>\n",
       "    </tr>\n",
       "    <tr>\n",
       "      <th>NumOfProducts</th>\n",
       "      <td>0.011361</td>\n",
       "      <td>-0.102195</td>\n",
       "      <td>0.007335</td>\n",
       "      <td>-0.361033</td>\n",
       "      <td>1.000000</td>\n",
       "      <td>0.005482</td>\n",
       "      <td>0.039736</td>\n",
       "      <td>-0.004285</td>\n",
       "      <td>-0.214554</td>\n",
       "    </tr>\n",
       "    <tr>\n",
       "      <th>HasCrCard</th>\n",
       "      <td>-0.002828</td>\n",
       "      <td>-0.012111</td>\n",
       "      <td>0.005327</td>\n",
       "      <td>-0.018584</td>\n",
       "      <td>0.005482</td>\n",
       "      <td>1.000000</td>\n",
       "      <td>-0.021034</td>\n",
       "      <td>0.004438</td>\n",
       "      <td>-0.022141</td>\n",
       "    </tr>\n",
       "    <tr>\n",
       "      <th>IsActiveMember</th>\n",
       "      <td>0.014790</td>\n",
       "      <td>0.003320</td>\n",
       "      <td>-0.005532</td>\n",
       "      <td>-0.015073</td>\n",
       "      <td>0.039736</td>\n",
       "      <td>-0.021034</td>\n",
       "      <td>1.000000</td>\n",
       "      <td>-0.008080</td>\n",
       "      <td>-0.210237</td>\n",
       "    </tr>\n",
       "    <tr>\n",
       "      <th>EstimatedSalary</th>\n",
       "      <td>-0.001820</td>\n",
       "      <td>-0.005399</td>\n",
       "      <td>0.000971</td>\n",
       "      <td>0.008586</td>\n",
       "      <td>-0.004285</td>\n",
       "      <td>0.004438</td>\n",
       "      <td>-0.008080</td>\n",
       "      <td>1.000000</td>\n",
       "      <td>0.018827</td>\n",
       "    </tr>\n",
       "    <tr>\n",
       "      <th>Exited</th>\n",
       "      <td>-0.027383</td>\n",
       "      <td>0.340768</td>\n",
       "      <td>-0.019565</td>\n",
       "      <td>0.129743</td>\n",
       "      <td>-0.214554</td>\n",
       "      <td>-0.022141</td>\n",
       "      <td>-0.210237</td>\n",
       "      <td>0.018827</td>\n",
       "      <td>1.000000</td>\n",
       "    </tr>\n",
       "  </tbody>\n",
       "</table>\n",
       "</div>"
      ],
      "text/plain": [
       "                 CreditScore       Age    Tenure   Balance  NumOfProducts   \n",
       "CreditScore         1.000000 -0.008918  0.000942  0.006973       0.011361  \\\n",
       "Age                -0.008918  1.000000 -0.010830  0.064318      -0.102195   \n",
       "Tenure              0.000942 -0.010830  1.000000 -0.009481       0.007335   \n",
       "Balance             0.006973  0.064318 -0.009481  1.000000      -0.361033   \n",
       "NumOfProducts       0.011361 -0.102195  0.007335 -0.361033       1.000000   \n",
       "HasCrCard          -0.002828 -0.012111  0.005327 -0.018584       0.005482   \n",
       "IsActiveMember      0.014790  0.003320 -0.005532 -0.015073       0.039736   \n",
       "EstimatedSalary    -0.001820 -0.005399  0.000971  0.008586      -0.004285   \n",
       "Exited             -0.027383  0.340768 -0.019565  0.129743      -0.214554   \n",
       "\n",
       "                 HasCrCard  IsActiveMember  EstimatedSalary    Exited  \n",
       "CreditScore      -0.002828        0.014790        -0.001820 -0.027383  \n",
       "Age              -0.012111        0.003320        -0.005399  0.340768  \n",
       "Tenure            0.005327       -0.005532         0.000971 -0.019565  \n",
       "Balance          -0.018584       -0.015073         0.008586  0.129743  \n",
       "NumOfProducts     0.005482        0.039736        -0.004285 -0.214554  \n",
       "HasCrCard         1.000000       -0.021034         0.004438 -0.022141  \n",
       "IsActiveMember   -0.021034        1.000000        -0.008080 -0.210237  \n",
       "EstimatedSalary   0.004438       -0.008080         1.000000  0.018827  \n",
       "Exited           -0.022141       -0.210237         0.018827  1.000000  "
      ]
     },
     "execution_count": 12,
     "metadata": {},
     "output_type": "execute_result"
    }
   ],
   "source": [
    "df.corr(numeric_only = True)"
   ]
  },
  {
   "cell_type": "code",
   "execution_count": 13,
   "id": "40d46bed",
   "metadata": {},
   "outputs": [
    {
     "data": {
      "text/plain": [
       "array([[<Axes: title={'center': 'CreditScore'}>,\n",
       "        <Axes: title={'center': 'Age'}>,\n",
       "        <Axes: title={'center': 'Balance'}>],\n",
       "       [<Axes: title={'center': 'Tenure'}>,\n",
       "        <Axes: title={'center': 'NumOfProducts'}>,\n",
       "        <Axes: title={'center': 'HasCrCard'}>],\n",
       "       [<Axes: title={'center': 'IsActiveMember'}>,\n",
       "        <Axes: title={'center': 'EstimatedSalary'}>,\n",
       "        <Axes: title={'center': 'Exited'}>]], dtype=object)"
      ]
     },
     "execution_count": 13,
     "metadata": {},
     "output_type": "execute_result"
    },
    {
     "data": {
      "image/png": "[encoded data removed]",
      "text/plain": [
       "<Figure size 1000x700 with 9 Axes>"
      ]
     },
     "metadata": {},
     "output_type": "display_data"
    }
   ],
   "source": [
    "df[num].hist(bins=30,figsize = (10,7))"
   ]
  },
  {
   "cell_type": "code",
   "execution_count": 14,
   "id": "90ca7f21",
   "metadata": {},
   "outputs": [],
   "source": [
    "# fig,ax = plt.subplots(1,9,figsize=(14,4))\n",
    "# df[df.Exited == 0][num].hist(bins=30,color = \"blue\",alpha = 0.5,ax=ax)\n",
    "# df[df.Exited == 1][num].hist(bins=30,color = \"red\",alpha = 0.5,ax=ax)"
   ]
  },
  {
   "cell_type": "code",
   "execution_count": 15,
   "id": "10d48a54",
   "metadata": {},
   "outputs": [
    {
     "data": {
      "text/html": [
       "<div>\n",
       "<style scoped>\n",
       "    .dataframe tbody tr th:only-of-type {\n",
       "        vertical-align: middle;\n",
       "    }\n",
       "\n",
       "    .dataframe tbody tr th {\n",
       "        vertical-align: top;\n",
       "    }\n",
       "\n",
       "    .dataframe thead th {\n",
       "        text-align: right;\n",
       "    }\n",
       "</style>\n",
       "<table border=\"1\" class=\"dataframe\">\n",
       "  <thead>\n",
       "    <tr style=\"text-align: right;\">\n",
       "      <th></th>\n",
       "      <th>Surname</th>\n",
       "      <th>CreditScore</th>\n",
       "      <th>Geography</th>\n",
       "      <th>Gender</th>\n",
       "      <th>Age</th>\n",
       "      <th>Tenure</th>\n",
       "      <th>Balance</th>\n",
       "      <th>NumOfProducts</th>\n",
       "      <th>HasCrCard</th>\n",
       "      <th>IsActiveMember</th>\n",
       "      <th>EstimatedSalary</th>\n",
       "      <th>Exited</th>\n",
       "    </tr>\n",
       "  </thead>\n",
       "  <tbody>\n",
       "    <tr>\n",
       "      <th>0</th>\n",
       "      <td>Okwudilichukwu</td>\n",
       "      <td>668</td>\n",
       "      <td>France</td>\n",
       "      <td>Male</td>\n",
       "      <td>33.0</td>\n",
       "      <td>3</td>\n",
       "      <td>0.00</td>\n",
       "      <td>2</td>\n",
       "      <td>1.0</td>\n",
       "      <td>0.0</td>\n",
       "      <td>181449.97</td>\n",
       "      <td>0</td>\n",
       "    </tr>\n",
       "    <tr>\n",
       "      <th>1</th>\n",
       "      <td>Okwudiliolisa</td>\n",
       "      <td>627</td>\n",
       "      <td>France</td>\n",
       "      <td>Male</td>\n",
       "      <td>33.0</td>\n",
       "      <td>1</td>\n",
       "      <td>0.00</td>\n",
       "      <td>2</td>\n",
       "      <td>1.0</td>\n",
       "      <td>1.0</td>\n",
       "      <td>49503.50</td>\n",
       "      <td>0</td>\n",
       "    </tr>\n",
       "    <tr>\n",
       "      <th>2</th>\n",
       "      <td>Hsueh</td>\n",
       "      <td>678</td>\n",
       "      <td>France</td>\n",
       "      <td>Male</td>\n",
       "      <td>40.0</td>\n",
       "      <td>10</td>\n",
       "      <td>0.00</td>\n",
       "      <td>2</td>\n",
       "      <td>1.0</td>\n",
       "      <td>0.0</td>\n",
       "      <td>184866.69</td>\n",
       "      <td>0</td>\n",
       "    </tr>\n",
       "    <tr>\n",
       "      <th>3</th>\n",
       "      <td>Kao</td>\n",
       "      <td>581</td>\n",
       "      <td>France</td>\n",
       "      <td>Male</td>\n",
       "      <td>34.0</td>\n",
       "      <td>2</td>\n",
       "      <td>148882.54</td>\n",
       "      <td>1</td>\n",
       "      <td>1.0</td>\n",
       "      <td>1.0</td>\n",
       "      <td>84560.88</td>\n",
       "      <td>0</td>\n",
       "    </tr>\n",
       "    <tr>\n",
       "      <th>4</th>\n",
       "      <td>Chiemenam</td>\n",
       "      <td>716</td>\n",
       "      <td>Spain</td>\n",
       "      <td>Male</td>\n",
       "      <td>33.0</td>\n",
       "      <td>5</td>\n",
       "      <td>0.00</td>\n",
       "      <td>2</td>\n",
       "      <td>1.0</td>\n",
       "      <td>1.0</td>\n",
       "      <td>15068.83</td>\n",
       "      <td>0</td>\n",
       "    </tr>\n",
       "  </tbody>\n",
       "</table>\n",
       "</div>"
      ],
      "text/plain": [
       "          Surname  CreditScore Geography Gender   Age  Tenure    Balance   \n",
       "0  Okwudilichukwu          668    France   Male  33.0       3       0.00  \\\n",
       "1   Okwudiliolisa          627    France   Male  33.0       1       0.00   \n",
       "2           Hsueh          678    France   Male  40.0      10       0.00   \n",
       "3             Kao          581    France   Male  34.0       2  148882.54   \n",
       "4       Chiemenam          716     Spain   Male  33.0       5       0.00   \n",
       "\n",
       "   NumOfProducts  HasCrCard  IsActiveMember  EstimatedSalary  Exited  \n",
       "0              2        1.0             0.0        181449.97       0  \n",
       "1              2        1.0             1.0         49503.50       0  \n",
       "2              2        1.0             0.0        184866.69       0  \n",
       "3              1        1.0             1.0         84560.88       0  \n",
       "4              2        1.0             1.0         15068.83       0  "
      ]
     },
     "execution_count": 15,
     "metadata": {},
     "output_type": "execute_result"
    }
   ],
   "source": [
    "df.head()"
   ]
  },
  {
   "cell_type": "code",
   "execution_count": null,
   "id": "cea7090d",
   "metadata": {},
   "outputs": [],
   "source": []
  },
  {
   "cell_type": "code",
   "execution_count": 16,
   "id": "d7d8ae25",
   "metadata": {},
   "outputs": [
    {
     "data": {
      "text/plain": [
       "(165034, 12)"
      ]
     },
     "execution_count": 16,
     "metadata": {},
     "output_type": "execute_result"
    }
   ],
   "source": [
    "df.shape"
   ]
  },
  {
   "cell_type": "code",
   "execution_count": null,
   "id": "ea9b645d",
   "metadata": {},
   "outputs": [],
   "source": []
  },
  {
   "cell_type": "code",
   "execution_count": 17,
   "id": "bc86de8a",
   "metadata": {},
   "outputs": [
    {
     "data": {
      "image/png": "[encoded data removed]",
      "text/plain": [
       "<Figure size 640x480 with 1 Axes>"
      ]
     },
     "metadata": {},
     "output_type": "display_data"
    }
   ],
   "source": [
    "sns.countplot(x='Exited', data=df)\n",
    "plt.title('Distribution of Churn')\n",
    "plt.xlabel('Churn')\n",
    "plt.ylabel('Count')\n",
    "plt.show()"
   ]
  },
  {
   "cell_type": "code",
   "execution_count": 18,
   "id": "772e4ec5",
   "metadata": {},
   "outputs": [
    {
     "name": "stdout",
     "output_type": "stream",
     "text": [
      "<class 'pandas.core.frame.DataFrame'>\n",
      "RangeIndex: 165034 entries, 0 to 165033\n",
      "Data columns (total 12 columns):\n",
      " #   Column           Non-Null Count   Dtype  \n",
      "---  ------           --------------   -----  \n",
      " 0   Surname          165034 non-null  object \n",
      " 1   CreditScore      165034 non-null  int64  \n",
      " 2   Geography        165034 non-null  object \n",
      " 3   Gender           165034 non-null  object \n",
      " 4   Age              165034 non-null  float64\n",
      " 5   Tenure           165034 non-null  int64  \n",
      " 6   Balance          165034 non-null  float64\n",
      " 7   NumOfProducts    165034 non-null  int64  \n",
      " 8   HasCrCard        165034 non-null  float64\n",
      " 9   IsActiveMember   165034 non-null  float64\n",
      " 10  EstimatedSalary  165034 non-null  float64\n",
      " 11  Exited           165034 non-null  int64  \n",
      "dtypes: float64(5), int64(4), object(3)\n",
      "memory usage: 15.1+ MB\n"
     ]
    }
   ],
   "source": [
    "df.info()"
   ]
  },
  {
   "cell_type": "code",
   "execution_count": 19,
   "id": "a5aac5f8",
   "metadata": {},
   "outputs": [],
   "source": [
    "# df.duplicated().sum()"
   ]
  },
  {
   "cell_type": "code",
   "execution_count": 20,
   "id": "4e594b79",
   "metadata": {},
   "outputs": [
    {
     "data": {
      "text/plain": [
       "Exited\n",
       "0    130113\n",
       "1     34921\n",
       "Name: count, dtype: int64"
      ]
     },
     "execution_count": 20,
     "metadata": {},
     "output_type": "execute_result"
    }
   ],
   "source": [
    "df['Exited'].value_counts()"
   ]
  },
  {
   "cell_type": "code",
   "execution_count": 21,
   "id": "8d6e363e",
   "metadata": {},
   "outputs": [
    {
     "data": {
      "text/plain": [
       "Geography\n",
       "France     94215\n",
       "Spain      36213\n",
       "Germany    34606\n",
       "Name: count, dtype: int64"
      ]
     },
     "execution_count": 21,
     "metadata": {},
     "output_type": "execute_result"
    }
   ],
   "source": [
    "df['Geography'].value_counts()"
   ]
  },
  {
   "cell_type": "code",
   "execution_count": 22,
   "id": "835cfb7d",
   "metadata": {},
   "outputs": [
    {
     "data": {
      "text/plain": [
       "Gender\n",
       "Male      93150\n",
       "Female    71884\n",
       "Name: count, dtype: int64"
      ]
     },
     "execution_count": 22,
     "metadata": {},
     "output_type": "execute_result"
    }
   ],
   "source": [
    "df['Gender'].value_counts()"
   ]
  },
  {
   "cell_type": "code",
   "execution_count": 23,
   "id": "6fdd88a7",
   "metadata": {},
   "outputs": [],
   "source": [
    "df.drop('Surname',axis=1,inplace = True)"
   ]
  },
  {
   "cell_type": "code",
   "execution_count": 24,
   "id": "ade95736",
   "metadata": {},
   "outputs": [
    {
     "data": {
      "text/html": [
       "<div>\n",
       "<style scoped>\n",
       "    .dataframe tbody tr th:only-of-type {\n",
       "        vertical-align: middle;\n",
       "    }\n",
       "\n",
       "    .dataframe tbody tr th {\n",
       "        vertical-align: top;\n",
       "    }\n",
       "\n",
       "    .dataframe thead th {\n",
       "        text-align: right;\n",
       "    }\n",
       "</style>\n",
       "<table border=\"1\" class=\"dataframe\">\n",
       "  <thead>\n",
       "    <tr style=\"text-align: right;\">\n",
       "      <th></th>\n",
       "      <th>CreditScore</th>\n",
       "      <th>Geography</th>\n",
       "      <th>Gender</th>\n",
       "      <th>Age</th>\n",
       "      <th>Tenure</th>\n",
       "      <th>Balance</th>\n",
       "      <th>NumOfProducts</th>\n",
       "      <th>HasCrCard</th>\n",
       "      <th>IsActiveMember</th>\n",
       "      <th>EstimatedSalary</th>\n",
       "      <th>Exited</th>\n",
       "    </tr>\n",
       "  </thead>\n",
       "  <tbody>\n",
       "    <tr>\n",
       "      <th>0</th>\n",
       "      <td>668</td>\n",
       "      <td>France</td>\n",
       "      <td>Male</td>\n",
       "      <td>33.0</td>\n",
       "      <td>3</td>\n",
       "      <td>0.00</td>\n",
       "      <td>2</td>\n",
       "      <td>1.0</td>\n",
       "      <td>0.0</td>\n",
       "      <td>181449.97</td>\n",
       "      <td>0</td>\n",
       "    </tr>\n",
       "    <tr>\n",
       "      <th>1</th>\n",
       "      <td>627</td>\n",
       "      <td>France</td>\n",
       "      <td>Male</td>\n",
       "      <td>33.0</td>\n",
       "      <td>1</td>\n",
       "      <td>0.00</td>\n",
       "      <td>2</td>\n",
       "      <td>1.0</td>\n",
       "      <td>1.0</td>\n",
       "      <td>49503.50</td>\n",
       "      <td>0</td>\n",
       "    </tr>\n",
       "    <tr>\n",
       "      <th>2</th>\n",
       "      <td>678</td>\n",
       "      <td>France</td>\n",
       "      <td>Male</td>\n",
       "      <td>40.0</td>\n",
       "      <td>10</td>\n",
       "      <td>0.00</td>\n",
       "      <td>2</td>\n",
       "      <td>1.0</td>\n",
       "      <td>0.0</td>\n",
       "      <td>184866.69</td>\n",
       "      <td>0</td>\n",
       "    </tr>\n",
       "    <tr>\n",
       "      <th>3</th>\n",
       "      <td>581</td>\n",
       "      <td>France</td>\n",
       "      <td>Male</td>\n",
       "      <td>34.0</td>\n",
       "      <td>2</td>\n",
       "      <td>148882.54</td>\n",
       "      <td>1</td>\n",
       "      <td>1.0</td>\n",
       "      <td>1.0</td>\n",
       "      <td>84560.88</td>\n",
       "      <td>0</td>\n",
       "    </tr>\n",
       "    <tr>\n",
       "      <th>4</th>\n",
       "      <td>716</td>\n",
       "      <td>Spain</td>\n",
       "      <td>Male</td>\n",
       "      <td>33.0</td>\n",
       "      <td>5</td>\n",
       "      <td>0.00</td>\n",
       "      <td>2</td>\n",
       "      <td>1.0</td>\n",
       "      <td>1.0</td>\n",
       "      <td>15068.83</td>\n",
       "      <td>0</td>\n",
       "    </tr>\n",
       "  </tbody>\n",
       "</table>\n",
       "</div>"
      ],
      "text/plain": [
       "   CreditScore Geography Gender   Age  Tenure    Balance  NumOfProducts   \n",
       "0          668    France   Male  33.0       3       0.00              2  \\\n",
       "1          627    France   Male  33.0       1       0.00              2   \n",
       "2          678    France   Male  40.0      10       0.00              2   \n",
       "3          581    France   Male  34.0       2  148882.54              1   \n",
       "4          716     Spain   Male  33.0       5       0.00              2   \n",
       "\n",
       "   HasCrCard  IsActiveMember  EstimatedSalary  Exited  \n",
       "0        1.0             0.0        181449.97       0  \n",
       "1        1.0             1.0         49503.50       0  \n",
       "2        1.0             0.0        184866.69       0  \n",
       "3        1.0             1.0         84560.88       0  \n",
       "4        1.0             1.0         15068.83       0  "
      ]
     },
     "execution_count": 24,
     "metadata": {},
     "output_type": "execute_result"
    }
   ],
   "source": [
    "df.head()"
   ]
  },
  {
   "cell_type": "code",
   "execution_count": 25,
   "id": "28f17be3",
   "metadata": {},
   "outputs": [],
   "source": [
    "df = pd.get_dummies(df,columns = ['Geography','Gender'],drop_first=True,dtype=int)"
   ]
  },
  {
   "cell_type": "code",
   "execution_count": 26,
   "id": "fce6218a",
   "metadata": {},
   "outputs": [
    {
     "data": {
      "text/html": [
       "<div>\n",
       "<style scoped>\n",
       "    .dataframe tbody tr th:only-of-type {\n",
       "        vertical-align: middle;\n",
       "    }\n",
       "\n",
       "    .dataframe tbody tr th {\n",
       "        vertical-align: top;\n",
       "    }\n",
       "\n",
       "    .dataframe thead th {\n",
       "        text-align: right;\n",
       "    }\n",
       "</style>\n",
       "<table border=\"1\" class=\"dataframe\">\n",
       "  <thead>\n",
       "    <tr style=\"text-align: right;\">\n",
       "      <th></th>\n",
       "      <th>CreditScore</th>\n",
       "      <th>Age</th>\n",
       "      <th>Tenure</th>\n",
       "      <th>Balance</th>\n",
       "      <th>NumOfProducts</th>\n",
       "      <th>HasCrCard</th>\n",
       "      <th>IsActiveMember</th>\n",
       "      <th>EstimatedSalary</th>\n",
       "      <th>Exited</th>\n",
       "      <th>Geography_Germany</th>\n",
       "      <th>Geography_Spain</th>\n",
       "      <th>Gender_Male</th>\n",
       "    </tr>\n",
       "  </thead>\n",
       "  <tbody>\n",
       "    <tr>\n",
       "      <th>0</th>\n",
       "      <td>668</td>\n",
       "      <td>33.0</td>\n",
       "      <td>3</td>\n",
       "      <td>0.00</td>\n",
       "      <td>2</td>\n",
       "      <td>1.0</td>\n",
       "      <td>0.0</td>\n",
       "      <td>181449.97</td>\n",
       "      <td>0</td>\n",
       "      <td>0</td>\n",
       "      <td>0</td>\n",
       "      <td>1</td>\n",
       "    </tr>\n",
       "    <tr>\n",
       "      <th>1</th>\n",
       "      <td>627</td>\n",
       "      <td>33.0</td>\n",
       "      <td>1</td>\n",
       "      <td>0.00</td>\n",
       "      <td>2</td>\n",
       "      <td>1.0</td>\n",
       "      <td>1.0</td>\n",
       "      <td>49503.50</td>\n",
       "      <td>0</td>\n",
       "      <td>0</td>\n",
       "      <td>0</td>\n",
       "      <td>1</td>\n",
       "    </tr>\n",
       "    <tr>\n",
       "      <th>2</th>\n",
       "      <td>678</td>\n",
       "      <td>40.0</td>\n",
       "      <td>10</td>\n",
       "      <td>0.00</td>\n",
       "      <td>2</td>\n",
       "      <td>1.0</td>\n",
       "      <td>0.0</td>\n",
       "      <td>184866.69</td>\n",
       "      <td>0</td>\n",
       "      <td>0</td>\n",
       "      <td>0</td>\n",
       "      <td>1</td>\n",
       "    </tr>\n",
       "    <tr>\n",
       "      <th>3</th>\n",
       "      <td>581</td>\n",
       "      <td>34.0</td>\n",
       "      <td>2</td>\n",
       "      <td>148882.54</td>\n",
       "      <td>1</td>\n",
       "      <td>1.0</td>\n",
       "      <td>1.0</td>\n",
       "      <td>84560.88</td>\n",
       "      <td>0</td>\n",
       "      <td>0</td>\n",
       "      <td>0</td>\n",
       "      <td>1</td>\n",
       "    </tr>\n",
       "    <tr>\n",
       "      <th>4</th>\n",
       "      <td>716</td>\n",
       "      <td>33.0</td>\n",
       "      <td>5</td>\n",
       "      <td>0.00</td>\n",
       "      <td>2</td>\n",
       "      <td>1.0</td>\n",
       "      <td>1.0</td>\n",
       "      <td>15068.83</td>\n",
       "      <td>0</td>\n",
       "      <td>0</td>\n",
       "      <td>1</td>\n",
       "      <td>1</td>\n",
       "    </tr>\n",
       "  </tbody>\n",
       "</table>\n",
       "</div>"
      ],
      "text/plain": [
       "   CreditScore   Age  Tenure    Balance  NumOfProducts  HasCrCard   \n",
       "0          668  33.0       3       0.00              2        1.0  \\\n",
       "1          627  33.0       1       0.00              2        1.0   \n",
       "2          678  40.0      10       0.00              2        1.0   \n",
       "3          581  34.0       2  148882.54              1        1.0   \n",
       "4          716  33.0       5       0.00              2        1.0   \n",
       "\n",
       "   IsActiveMember  EstimatedSalary  Exited  Geography_Germany   \n",
       "0             0.0        181449.97       0                  0  \\\n",
       "1             1.0         49503.50       0                  0   \n",
       "2             0.0        184866.69       0                  0   \n",
       "3             1.0         84560.88       0                  0   \n",
       "4             1.0         15068.83       0                  0   \n",
       "\n",
       "   Geography_Spain  Gender_Male  \n",
       "0                0            1  \n",
       "1                0            1  \n",
       "2                0            1  \n",
       "3                0            1  \n",
       "4                1            1  "
      ]
     },
     "execution_count": 26,
     "metadata": {},
     "output_type": "execute_result"
    }
   ],
   "source": [
    "df.head()"
   ]
  },
  {
   "cell_type": "markdown",
   "id": "73167b78",
   "metadata": {},
   "source": [
    "Scaling of values\n"
   ]
  },
  {
   "cell_type": "code",
   "execution_count": 27,
   "id": "b95e2188",
   "metadata": {},
   "outputs": [],
   "source": [
    "y = df['Exited']\n",
    "X = df.drop('Exited',axis = 1)"
   ]
  },
  {
   "cell_type": "code",
   "execution_count": 28,
   "id": "ecf4ad41",
   "metadata": {},
   "outputs": [],
   "source": [
    "from sklearn.model_selection import train_test_split\n",
    "X_train,X_test,y_train,y_test = train_test_split(X,y,test_size = 0.2, random_state=1)"
   ]
  },
  {
   "cell_type": "code",
   "execution_count": 29,
   "id": "6f4c4d6f",
   "metadata": {},
   "outputs": [
    {
     "data": {
      "text/plain": [
       "(132027, 11)"
      ]
     },
     "execution_count": 29,
     "metadata": {},
     "output_type": "execute_result"
    }
   ],
   "source": [
    "X_train.shape"
   ]
  },
  {
   "cell_type": "code",
   "execution_count": 30,
   "id": "c6d155ae",
   "metadata": {},
   "outputs": [],
   "source": [
    "# def getFeats(df): \n",
    "# #     df[\"Surname_First_Letter\"] = df[\"Surname\"].apply(lambda x: x[0]) \n",
    "#     df[\"Age_NumOfProducts\"] = df[\"Age\"] ** df[\"NumOfProducts\"] \n",
    "#     df['IsSenior'] = df['Age'].apply(lambda x: 1 if x >= 60 else 0) \n",
    "#     df['IsActive_by_CreditCard'] = df['HasCrCard'] * df['IsActiveMember'] \n",
    "#     df['Products_Per_Tenure'] = df['Tenure'] / df['NumOfProducts'] \n",
    "#     df['AgeCat'] = np.round(df.Age/20).astype('int').astype('category') \n",
    "#     df['AvgBalancePerProduct'] = df['Balance'] / df['NumOfProducts'] \n",
    "#     df['TenureToAgeRatio'] = df['Tenure'] / df['Age'] \n",
    "#     df['Balance_to_Salary_Ratio'] = df['Balance'] / df['EstimatedSalary'] \n",
    "#     df['CreditScoreTier'] = pd.cut(df['CreditScore'], bins=[0, 650, 750, 850], labels=['Low', 'Medium', 'High']) \n",
    "#     return df\n",
    "\n",
    "# X_train1 = getFeats(X_train)\n",
    "# X_test1 = getFeats(X_test)\n",
    "\n",
    "# X_train1= pd.get_dummies(X_train1,columns =['CreditScoreTier'],drop_first=True,dtype=int)\n",
    "# X_test1= pd.get_dummies(X_test1,columns =['CreditScoreTier'],drop_first=True,dtype=int)"
   ]
  },
  {
   "cell_type": "code",
   "execution_count": null,
   "id": "014a5a16",
   "metadata": {},
   "outputs": [],
   "source": []
  },
  {
   "cell_type": "code",
   "execution_count": null,
   "id": "afbc8fd5",
   "metadata": {},
   "outputs": [],
   "source": []
  },
  {
   "cell_type": "code",
   "execution_count": 31,
   "id": "1a97f07b",
   "metadata": {},
   "outputs": [],
   "source": [
    "from sklearn.preprocessing import StandardScaler\n",
    "scaler= StandardScaler()\n",
    "\n",
    "X_train_scaled = scaler.fit_transform(X_train)\n",
    "X_test_scaled = scaler.fit_transform(X_test)"
   ]
  },
  {
   "cell_type": "code",
   "execution_count": 33,
   "id": "0e0927d9",
   "metadata": {},
   "outputs": [],
   "source": [
    "# X_train1.shape"
   ]
  },
  {
   "cell_type": "code",
   "execution_count": 38,
   "id": "5e00a978",
   "metadata": {},
   "outputs": [
    {
     "data": {
      "text/plain": [
       "(132027, 11)"
      ]
     },
     "execution_count": 38,
     "metadata": {},
     "output_type": "execute_result"
    }
   ],
   "source": [
    "X_train.shape"
   ]
  },
  {
   "cell_type": "markdown",
   "id": "4cff273c",
   "metadata": {},
   "source": [
    "construct model"
   ]
  },
  {
   "cell_type": "code",
   "execution_count": 40,
   "id": "fdce1dfe",
   "metadata": {},
   "outputs": [],
   "source": [
    "import tensorflow as tf\n",
    "from tensorflow import keras\n",
    "from tensorflow.keras import Sequential\n",
    "from tensorflow.keras.layers import Dense,BatchNormalization"
   ]
  },
  {
   "cell_type": "code",
   "execution_count": 41,
   "id": "1096455f",
   "metadata": {},
   "outputs": [],
   "source": [
    "model = Sequential()\n",
    "model.add(Dense(11,activation = 'relu',input_dim = 11))\n",
    "# BatchNormalization()\n",
    "model.add(Dense(8,activation = 'relu'))\n",
    "model.add(Dense(4,activation = 'relu'))\n",
    "model.add(Dense(1,activation = 'sigmoid'))\n",
    "  "
   ]
  },
  {
   "cell_type": "code",
   "execution_count": 42,
   "id": "8fce7af7",
   "metadata": {},
   "outputs": [
    {
     "name": "stdout",
     "output_type": "stream",
     "text": [
      "Model: \"sequential_2\"\n",
      "_________________________________________________________________\n",
      " Layer (type)                Output Shape              Param #   \n",
      "=================================================================\n",
      " dense_8 (Dense)             (None, 11)                132       \n",
      "                                                                 \n",
      " dense_9 (Dense)             (None, 8)                 96        \n",
      "                                                                 \n",
      " dense_10 (Dense)            (None, 4)                 36        \n",
      "                                                                 \n",
      " dense_11 (Dense)            (None, 1)                 5         \n",
      "                                                                 \n",
      "=================================================================\n",
      "Total params: 269 (1.05 KB)\n",
      "Trainable params: 269 (1.05 KB)\n",
      "Non-trainable params: 0 (0.00 Byte)\n",
      "_________________________________________________________________\n"
     ]
    }
   ],
   "source": [
    "model.summary()"
   ]
  },
  {
   "cell_type": "code",
   "execution_count": 43,
   "id": "45f04d9e",
   "metadata": {},
   "outputs": [],
   "source": [
    "model.compile(loss='binary_crossentropy',optimizer = 'Adam',metrics=['accuracy'])"
   ]
  },
  {
   "cell_type": "code",
   "execution_count": null,
   "id": "5577b4aa",
   "metadata": {},
   "outputs": [],
   "source": []
  },
  {
   "cell_type": "code",
   "execution_count": 44,
   "id": "0490b948",
   "metadata": {
    "scrolled": true
   },
   "outputs": [
    {
     "name": "stdout",
     "output_type": "stream",
     "text": [
      "Epoch 1/100\n",
      "4126/4126 - 4s - loss: 0.3653 - accuracy: 0.8454 - 4s/epoch - 939us/step\n",
      "Epoch 2/100\n",
      "4126/4126 - 4s - loss: 0.3319 - accuracy: 0.8602 - 4s/epoch - 895us/step\n",
      "Epoch 3/100\n",
      "4126/4126 - 4s - loss: 0.3285 - accuracy: 0.8621 - 4s/epoch - 908us/step\n",
      "Epoch 4/100\n",
      "4126/4126 - 3s - loss: 0.3262 - accuracy: 0.8633 - 3s/epoch - 812us/step\n",
      "Epoch 5/100\n",
      "4126/4126 - 3s - loss: 0.3247 - accuracy: 0.8640 - 3s/epoch - 711us/step\n",
      "Epoch 6/100\n",
      "4126/4126 - 4s - loss: 0.3240 - accuracy: 0.8644 - 4s/epoch - 967us/step\n",
      "Epoch 7/100\n",
      "4126/4126 - 3s - loss: 0.3234 - accuracy: 0.8650 - 3s/epoch - 831us/step\n",
      "Epoch 8/100\n",
      "4126/4126 - 5s - loss: 0.3233 - accuracy: 0.8646 - 5s/epoch - 1ms/step\n",
      "Epoch 9/100\n",
      "4126/4126 - 5s - loss: 0.3230 - accuracy: 0.8650 - 5s/epoch - 1ms/step\n",
      "Epoch 10/100\n",
      "4126/4126 - 3s - loss: 0.3228 - accuracy: 0.8645 - 3s/epoch - 766us/step\n",
      "Epoch 11/100\n",
      "4126/4126 - 3s - loss: 0.3227 - accuracy: 0.8647 - 3s/epoch - 804us/step\n",
      "Epoch 12/100\n",
      "4126/4126 - 3s - loss: 0.3227 - accuracy: 0.8644 - 3s/epoch - 808us/step\n",
      "Epoch 13/100\n",
      "4126/4126 - 3s - loss: 0.3226 - accuracy: 0.8647 - 3s/epoch - 847us/step\n",
      "Epoch 14/100\n",
      "4126/4126 - 3s - loss: 0.3224 - accuracy: 0.8651 - 3s/epoch - 790us/step\n",
      "Epoch 15/100\n",
      "4126/4126 - 3s - loss: 0.3224 - accuracy: 0.8648 - 3s/epoch - 839us/step\n",
      "Epoch 16/100\n",
      "4126/4126 - 4s - loss: 0.3223 - accuracy: 0.8648 - 4s/epoch - 1ms/step\n",
      "Epoch 17/100\n",
      "4126/4126 - 5s - loss: 0.3222 - accuracy: 0.8652 - 5s/epoch - 1ms/step\n",
      "Epoch 18/100\n",
      "4126/4126 - 4s - loss: 0.3221 - accuracy: 0.8651 - 4s/epoch - 1ms/step\n",
      "Epoch 19/100\n",
      "4126/4126 - 4s - loss: 0.3222 - accuracy: 0.8652 - 4s/epoch - 956us/step\n",
      "Epoch 20/100\n",
      "4126/4126 - 3s - loss: 0.3221 - accuracy: 0.8650 - 3s/epoch - 741us/step\n",
      "Epoch 21/100\n",
      "4126/4126 - 3s - loss: 0.3222 - accuracy: 0.8652 - 3s/epoch - 650us/step\n",
      "Epoch 22/100\n",
      "4126/4126 - 4s - loss: 0.3222 - accuracy: 0.8651 - 4s/epoch - 1ms/step\n",
      "Epoch 23/100\n",
      "4126/4126 - 4s - loss: 0.3220 - accuracy: 0.8650 - 4s/epoch - 945us/step\n",
      "Epoch 24/100\n",
      "4126/4126 - 3s - loss: 0.3220 - accuracy: 0.8653 - 3s/epoch - 672us/step\n",
      "Epoch 25/100\n",
      "4126/4126 - 3s - loss: 0.3219 - accuracy: 0.8650 - 3s/epoch - 745us/step\n",
      "Epoch 26/100\n",
      "4126/4126 - 3s - loss: 0.3219 - accuracy: 0.8653 - 3s/epoch - 813us/step\n",
      "Epoch 27/100\n",
      "4126/4126 - 3s - loss: 0.3220 - accuracy: 0.8652 - 3s/epoch - 644us/step\n",
      "Epoch 28/100\n",
      "4126/4126 - 3s - loss: 0.3218 - accuracy: 0.8655 - 3s/epoch - 677us/step\n",
      "Epoch 29/100\n",
      "4126/4126 - 3s - loss: 0.3219 - accuracy: 0.8651 - 3s/epoch - 698us/step\n",
      "Epoch 30/100\n",
      "4126/4126 - 3s - loss: 0.3218 - accuracy: 0.8654 - 3s/epoch - 642us/step\n",
      "Epoch 31/100\n",
      "4126/4126 - 3s - loss: 0.3218 - accuracy: 0.8651 - 3s/epoch - 737us/step\n",
      "Epoch 32/100\n",
      "4126/4126 - 3s - loss: 0.3216 - accuracy: 0.8649 - 3s/epoch - 772us/step\n",
      "Epoch 33/100\n",
      "4126/4126 - 3s - loss: 0.3218 - accuracy: 0.8652 - 3s/epoch - 631us/step\n",
      "Epoch 34/100\n",
      "4126/4126 - 3s - loss: 0.3217 - accuracy: 0.8654 - 3s/epoch - 717us/step\n",
      "Epoch 35/100\n",
      "4126/4126 - 4s - loss: 0.3218 - accuracy: 0.8655 - 4s/epoch - 876us/step\n",
      "Epoch 36/100\n",
      "4126/4126 - 3s - loss: 0.3216 - accuracy: 0.8651 - 3s/epoch - 638us/step\n",
      "Epoch 37/100\n",
      "4126/4126 - 3s - loss: 0.3216 - accuracy: 0.8654 - 3s/epoch - 719us/step\n",
      "Epoch 38/100\n",
      "4126/4126 - 5s - loss: 0.3217 - accuracy: 0.8650 - 5s/epoch - 1ms/step\n",
      "Epoch 39/100\n",
      "4126/4126 - 3s - loss: 0.3216 - accuracy: 0.8654 - 3s/epoch - 760us/step\n",
      "Epoch 40/100\n",
      "4126/4126 - 3s - loss: 0.3214 - accuracy: 0.8654 - 3s/epoch - 630us/step\n",
      "Epoch 41/100\n",
      "4126/4126 - 3s - loss: 0.3215 - accuracy: 0.8648 - 3s/epoch - 847us/step\n",
      "Epoch 42/100\n",
      "4126/4126 - 3s - loss: 0.3214 - accuracy: 0.8655 - 3s/epoch - 735us/step\n",
      "Epoch 43/100\n",
      "4126/4126 - 3s - loss: 0.3215 - accuracy: 0.8653 - 3s/epoch - 684us/step\n",
      "Epoch 44/100\n",
      "4126/4126 - 5s - loss: 0.3213 - accuracy: 0.8652 - 5s/epoch - 1ms/step\n",
      "Epoch 45/100\n",
      "4126/4126 - 3s - loss: 0.3213 - accuracy: 0.8655 - 3s/epoch - 719us/step\n",
      "Epoch 46/100\n",
      "4126/4126 - 3s - loss: 0.3213 - accuracy: 0.8653 - 3s/epoch - 760us/step\n",
      "Epoch 47/100\n",
      "4126/4126 - 6s - loss: 0.3214 - accuracy: 0.8651 - 6s/epoch - 1ms/step\n",
      "Epoch 48/100\n",
      "4126/4126 - 6s - loss: 0.3213 - accuracy: 0.8653 - 6s/epoch - 1ms/step\n",
      "Epoch 49/100\n",
      "4126/4126 - 6s - loss: 0.3214 - accuracy: 0.8651 - 6s/epoch - 2ms/step\n",
      "Epoch 50/100\n",
      "4126/4126 - 7s - loss: 0.3211 - accuracy: 0.8656 - 7s/epoch - 2ms/step\n",
      "Epoch 51/100\n",
      "4126/4126 - 3s - loss: 0.3212 - accuracy: 0.8650 - 3s/epoch - 712us/step\n",
      "Epoch 52/100\n",
      "4126/4126 - 4s - loss: 0.3211 - accuracy: 0.8656 - 4s/epoch - 863us/step\n",
      "Epoch 53/100\n",
      "4126/4126 - 4s - loss: 0.3213 - accuracy: 0.8656 - 4s/epoch - 973us/step\n",
      "Epoch 54/100\n",
      "4126/4126 - 4s - loss: 0.3211 - accuracy: 0.8658 - 4s/epoch - 962us/step\n",
      "Epoch 55/100\n",
      "4126/4126 - 7s - loss: 0.3211 - accuracy: 0.8654 - 7s/epoch - 2ms/step\n",
      "Epoch 56/100\n",
      "4126/4126 - 6s - loss: 0.3211 - accuracy: 0.8657 - 6s/epoch - 1ms/step\n",
      "Epoch 57/100\n",
      "4126/4126 - 4s - loss: 0.3211 - accuracy: 0.8652 - 4s/epoch - 1ms/step\n",
      "Epoch 58/100\n",
      "4126/4126 - 4s - loss: 0.3210 - accuracy: 0.8656 - 4s/epoch - 935us/step\n",
      "Epoch 59/100\n",
      "4126/4126 - 5s - loss: 0.3211 - accuracy: 0.8654 - 5s/epoch - 1ms/step\n",
      "Epoch 60/100\n",
      "4126/4126 - 4s - loss: 0.3211 - accuracy: 0.8652 - 4s/epoch - 908us/step\n",
      "Epoch 61/100\n",
      "4126/4126 - 3s - loss: 0.3210 - accuracy: 0.8654 - 3s/epoch - 704us/step\n",
      "Epoch 62/100\n",
      "4126/4126 - 4s - loss: 0.3209 - accuracy: 0.8654 - 4s/epoch - 1ms/step\n",
      "Epoch 63/100\n",
      "4126/4126 - 5s - loss: 0.3210 - accuracy: 0.8657 - 5s/epoch - 1ms/step\n",
      "Epoch 64/100\n",
      "4126/4126 - 5s - loss: 0.3211 - accuracy: 0.8656 - 5s/epoch - 1ms/step\n",
      "Epoch 65/100\n",
      "4126/4126 - 5s - loss: 0.3209 - accuracy: 0.8656 - 5s/epoch - 1ms/step\n",
      "Epoch 66/100\n",
      "4126/4126 - 5s - loss: 0.3210 - accuracy: 0.8654 - 5s/epoch - 1ms/step\n",
      "Epoch 67/100\n",
      "4126/4126 - 4s - loss: 0.3210 - accuracy: 0.8655 - 4s/epoch - 897us/step\n",
      "Epoch 68/100\n",
      "4126/4126 - 4s - loss: 0.3211 - accuracy: 0.8652 - 4s/epoch - 863us/step\n",
      "Epoch 69/100\n",
      "4126/4126 - 4s - loss: 0.3210 - accuracy: 0.8654 - 4s/epoch - 1ms/step\n",
      "Epoch 70/100\n",
      "4126/4126 - 4s - loss: 0.3209 - accuracy: 0.8655 - 4s/epoch - 865us/step\n",
      "Epoch 71/100\n",
      "4126/4126 - 3s - loss: 0.3209 - accuracy: 0.8657 - 3s/epoch - 839us/step\n",
      "Epoch 72/100\n",
      "4126/4126 - 3s - loss: 0.3209 - accuracy: 0.8652 - 3s/epoch - 749us/step\n",
      "Epoch 73/100\n",
      "4126/4126 - 3s - loss: 0.3211 - accuracy: 0.8655 - 3s/epoch - 702us/step\n",
      "Epoch 74/100\n",
      "4126/4126 - 3s - loss: 0.3209 - accuracy: 0.8653 - 3s/epoch - 775us/step\n",
      "Epoch 75/100\n",
      "4126/4126 - 4s - loss: 0.3207 - accuracy: 0.8658 - 4s/epoch - 924us/step\n",
      "Epoch 76/100\n",
      "4126/4126 - 3s - loss: 0.3210 - accuracy: 0.8654 - 3s/epoch - 838us/step\n",
      "Epoch 77/100\n",
      "4126/4126 - 3s - loss: 0.3208 - accuracy: 0.8654 - 3s/epoch - 677us/step\n",
      "Epoch 78/100\n",
      "4126/4126 - 3s - loss: 0.3208 - accuracy: 0.8656 - 3s/epoch - 693us/step\n",
      "Epoch 79/100\n",
      "4126/4126 - 3s - loss: 0.3208 - accuracy: 0.8658 - 3s/epoch - 768us/step\n",
      "Epoch 80/100\n",
      "4126/4126 - 3s - loss: 0.3209 - accuracy: 0.8656 - 3s/epoch - 714us/step\n",
      "Epoch 81/100\n",
      "4126/4126 - 4s - loss: 0.3208 - accuracy: 0.8650 - 4s/epoch - 987us/step\n",
      "Epoch 82/100\n",
      "4126/4126 - 4s - loss: 0.3210 - accuracy: 0.8656 - 4s/epoch - 1ms/step\n",
      "Epoch 83/100\n",
      "4126/4126 - 3s - loss: 0.3209 - accuracy: 0.8654 - 3s/epoch - 808us/step\n",
      "Epoch 84/100\n",
      "4126/4126 - 3s - loss: 0.3209 - accuracy: 0.8653 - 3s/epoch - 707us/step\n",
      "Epoch 85/100\n",
      "4126/4126 - 3s - loss: 0.3209 - accuracy: 0.8656 - 3s/epoch - 676us/step\n",
      "Epoch 86/100\n",
      "4126/4126 - 3s - loss: 0.3208 - accuracy: 0.8652 - 3s/epoch - 812us/step\n",
      "Epoch 87/100\n",
      "4126/4126 - 3s - loss: 0.3209 - accuracy: 0.8653 - 3s/epoch - 810us/step\n",
      "Epoch 88/100\n",
      "4126/4126 - 3s - loss: 0.3207 - accuracy: 0.8655 - 3s/epoch - 682us/step\n",
      "Epoch 89/100\n",
      "4126/4126 - 4s - loss: 0.3208 - accuracy: 0.8656 - 4s/epoch - 854us/step\n",
      "Epoch 90/100\n",
      "4126/4126 - 3s - loss: 0.3208 - accuracy: 0.8656 - 3s/epoch - 692us/step\n",
      "Epoch 91/100\n",
      "4126/4126 - 3s - loss: 0.3208 - accuracy: 0.8656 - 3s/epoch - 703us/step\n",
      "Epoch 92/100\n",
      "4126/4126 - 5s - loss: 0.3207 - accuracy: 0.8654 - 5s/epoch - 1ms/step\n",
      "Epoch 93/100\n",
      "4126/4126 - 3s - loss: 0.3207 - accuracy: 0.8655 - 3s/epoch - 685us/step\n",
      "Epoch 94/100\n",
      "4126/4126 - 3s - loss: 0.3208 - accuracy: 0.8657 - 3s/epoch - 635us/step\n",
      "Epoch 95/100\n",
      "4126/4126 - 3s - loss: 0.3209 - accuracy: 0.8656 - 3s/epoch - 669us/step\n",
      "Epoch 96/100\n",
      "4126/4126 - 3s - loss: 0.3208 - accuracy: 0.8653 - 3s/epoch - 652us/step\n"
     ]
    },
    {
     "name": "stdout",
     "output_type": "stream",
     "text": [
      "Epoch 97/100\n",
      "4126/4126 - 3s - loss: 0.3207 - accuracy: 0.8653 - 3s/epoch - 702us/step\n",
      "Epoch 98/100\n",
      "4126/4126 - 3s - loss: 0.3208 - accuracy: 0.8656 - 3s/epoch - 784us/step\n",
      "Epoch 99/100\n",
      "4126/4126 - 3s - loss: 0.3206 - accuracy: 0.8654 - 3s/epoch - 748us/step\n",
      "Epoch 100/100\n",
      "4126/4126 - 4s - loss: 0.3207 - accuracy: 0.8656 - 4s/epoch - 856us/step\n"
     ]
    },
    {
     "data": {
      "text/plain": [
       "<keras.src.callbacks.History at 0x247685bcfd0>"
      ]
     },
     "execution_count": 44,
     "metadata": {},
     "output_type": "execute_result"
    }
   ],
   "source": [
    "model.fit(X_train_scaled,y_train,epochs = 100,verbose =2)"
   ]
  },
  {
   "cell_type": "code",
   "execution_count": 45,
   "id": "a4fe7fe7",
   "metadata": {},
   "outputs": [
    {
     "name": "stdout",
     "output_type": "stream",
     "text": [
      "1032/1032 [==============================] - 1s 699us/step\n"
     ]
    }
   ],
   "source": [
    "y_pred = model.predict(X_test_scaled)"
   ]
  },
  {
   "cell_type": "code",
   "execution_count": 46,
   "id": "59658058",
   "metadata": {},
   "outputs": [],
   "source": [
    "from sklearn.metrics import roc_curve,auc\n",
    "import matplotlib.pyplot as plt\n",
    "\n",
    "fpr, tpr,thresholds = roc_curve(y_test,y_pred)\n",
    "roc_auc = auc(fpr,tpr)"
   ]
  },
  {
   "cell_type": "code",
   "execution_count": null,
   "id": "f9c7efa7",
   "metadata": {},
   "outputs": [],
   "source": []
  },
  {
   "cell_type": "code",
   "execution_count": 47,
   "id": "c9916d2c",
   "metadata": {},
   "outputs": [
    {
     "data": {
      "image/png": "[encoded data removed]",
      "text/plain": [
       "<Figure size 800x800 with 1 Axes>"
      ]
     },
     "metadata": {},
     "output_type": "display_data"
    }
   ],
   "source": [
    "plt.figure(figsize=(8, 8))\n",
    "plt.plot(fpr, tpr, color='darkorange', lw=2, label='ROC curve (AUC = {:.2f})'.format(roc_auc))\n",
    "plt.plot([0, 1], [0, 1], color='navy', lw=2, linestyle='--')\n",
    "plt.xlabel('False Positive Rate')\n",
    "plt.ylabel('True Positive Rate')\n",
    "plt.title('Receiver Operating Characteristic (ROC) Curve')\n",
    "plt.legend(loc='lower right')\n",
    "plt.show()"
   ]
  },
  {
   "cell_type": "code",
   "execution_count": null,
   "id": "ca670bce",
   "metadata": {},
   "outputs": [],
   "source": []
  },
  {
   "cell_type": "code",
   "execution_count": null,
   "id": "cdd1d844",
   "metadata": {},
   "outputs": [],
   "source": []
  },
  {
   "cell_type": "code",
   "execution_count": 48,
   "id": "f86f07f9",
   "metadata": {},
   "outputs": [
    {
     "data": {
      "text/plain": [
       "0.8854738231610029"
      ]
     },
     "execution_count": 48,
     "metadata": {},
     "output_type": "execute_result"
    }
   ],
   "source": [
    "roc_auc"
   ]
  },
  {
   "cell_type": "code",
   "execution_count": 49,
   "id": "940ce6ea",
   "metadata": {},
   "outputs": [],
   "source": [
    "df_test = pd.read_csv('test.csv')"
   ]
  },
  {
   "cell_type": "code",
   "execution_count": 50,
   "id": "9c2d91e6",
   "metadata": {},
   "outputs": [],
   "source": [
    "# df_test_scaled = scaler.fit_transform(df_test)\n",
    "df_test.drop(['id','CustomerId','Surname'],axis =1,inplace =True)"
   ]
  },
  {
   "cell_type": "code",
   "execution_count": 51,
   "id": "fe9edd50",
   "metadata": {},
   "outputs": [
    {
     "data": {
      "text/html": [
       "<div>\n",
       "<style scoped>\n",
       "    .dataframe tbody tr th:only-of-type {\n",
       "        vertical-align: middle;\n",
       "    }\n",
       "\n",
       "    .dataframe tbody tr th {\n",
       "        vertical-align: top;\n",
       "    }\n",
       "\n",
       "    .dataframe thead th {\n",
       "        text-align: right;\n",
       "    }\n",
       "</style>\n",
       "<table border=\"1\" class=\"dataframe\">\n",
       "  <thead>\n",
       "    <tr style=\"text-align: right;\">\n",
       "      <th></th>\n",
       "      <th>CreditScore</th>\n",
       "      <th>Geography</th>\n",
       "      <th>Gender</th>\n",
       "      <th>Age</th>\n",
       "      <th>Tenure</th>\n",
       "      <th>Balance</th>\n",
       "      <th>NumOfProducts</th>\n",
       "      <th>HasCrCard</th>\n",
       "      <th>IsActiveMember</th>\n",
       "      <th>EstimatedSalary</th>\n",
       "    </tr>\n",
       "  </thead>\n",
       "  <tbody>\n",
       "    <tr>\n",
       "      <th>0</th>\n",
       "      <td>586</td>\n",
       "      <td>France</td>\n",
       "      <td>Female</td>\n",
       "      <td>23.0</td>\n",
       "      <td>2</td>\n",
       "      <td>0.00</td>\n",
       "      <td>2</td>\n",
       "      <td>0.0</td>\n",
       "      <td>1.0</td>\n",
       "      <td>160976.75</td>\n",
       "    </tr>\n",
       "    <tr>\n",
       "      <th>1</th>\n",
       "      <td>683</td>\n",
       "      <td>France</td>\n",
       "      <td>Female</td>\n",
       "      <td>46.0</td>\n",
       "      <td>2</td>\n",
       "      <td>0.00</td>\n",
       "      <td>1</td>\n",
       "      <td>1.0</td>\n",
       "      <td>0.0</td>\n",
       "      <td>72549.27</td>\n",
       "    </tr>\n",
       "    <tr>\n",
       "      <th>2</th>\n",
       "      <td>656</td>\n",
       "      <td>France</td>\n",
       "      <td>Female</td>\n",
       "      <td>34.0</td>\n",
       "      <td>7</td>\n",
       "      <td>0.00</td>\n",
       "      <td>2</td>\n",
       "      <td>1.0</td>\n",
       "      <td>0.0</td>\n",
       "      <td>138882.09</td>\n",
       "    </tr>\n",
       "    <tr>\n",
       "      <th>3</th>\n",
       "      <td>681</td>\n",
       "      <td>France</td>\n",
       "      <td>Male</td>\n",
       "      <td>36.0</td>\n",
       "      <td>8</td>\n",
       "      <td>0.00</td>\n",
       "      <td>1</td>\n",
       "      <td>1.0</td>\n",
       "      <td>0.0</td>\n",
       "      <td>113931.57</td>\n",
       "    </tr>\n",
       "    <tr>\n",
       "      <th>4</th>\n",
       "      <td>752</td>\n",
       "      <td>Germany</td>\n",
       "      <td>Male</td>\n",
       "      <td>38.0</td>\n",
       "      <td>10</td>\n",
       "      <td>121263.62</td>\n",
       "      <td>1</td>\n",
       "      <td>1.0</td>\n",
       "      <td>0.0</td>\n",
       "      <td>139431.00</td>\n",
       "    </tr>\n",
       "  </tbody>\n",
       "</table>\n",
       "</div>"
      ],
      "text/plain": [
       "   CreditScore Geography  Gender   Age  Tenure    Balance  NumOfProducts   \n",
       "0          586    France  Female  23.0       2       0.00              2  \\\n",
       "1          683    France  Female  46.0       2       0.00              1   \n",
       "2          656    France  Female  34.0       7       0.00              2   \n",
       "3          681    France    Male  36.0       8       0.00              1   \n",
       "4          752   Germany    Male  38.0      10  121263.62              1   \n",
       "\n",
       "   HasCrCard  IsActiveMember  EstimatedSalary  \n",
       "0        0.0             1.0        160976.75  \n",
       "1        1.0             0.0         72549.27  \n",
       "2        1.0             0.0        138882.09  \n",
       "3        1.0             0.0        113931.57  \n",
       "4        1.0             0.0        139431.00  "
      ]
     },
     "execution_count": 51,
     "metadata": {},
     "output_type": "execute_result"
    }
   ],
   "source": [
    "df_test.head()"
   ]
  },
  {
   "cell_type": "code",
   "execution_count": 52,
   "id": "2914cd72",
   "metadata": {},
   "outputs": [],
   "source": [
    "dff_test = pd.get_dummies(df_test,columns = ['Geography','Gender'],drop_first=True,dtype=int)"
   ]
  },
  {
   "cell_type": "code",
   "execution_count": 53,
   "id": "2ad14aa3",
   "metadata": {},
   "outputs": [],
   "source": [
    "dff_test_scaled = scaler.fit_transform(dff_test)"
   ]
  },
  {
   "cell_type": "code",
   "execution_count": 54,
   "id": "07898902",
   "metadata": {},
   "outputs": [
    {
     "name": "stdout",
     "output_type": "stream",
     "text": [
      "3439/3439 [==============================] - 3s 809us/step\n"
     ]
    }
   ],
   "source": [
    "answer = model.predict(dff_test_scaled)"
   ]
  },
  {
   "cell_type": "code",
   "execution_count": 55,
   "id": "682357e1",
   "metadata": {},
   "outputs": [
    {
     "data": {
      "text/plain": [
       "array([[0. ],\n",
       "       [0.8],\n",
       "       [0. ],\n",
       "       ...,\n",
       "       [0. ],\n",
       "       [0.1],\n",
       "       [0.2]], dtype=float32)"
      ]
     },
     "execution_count": 55,
     "metadata": {},
     "output_type": "execute_result"
    }
   ],
   "source": [
    "# ans = np.where(answer > 0.3106806,1,0)\n",
    "rounded_array = np.around(answer, decimals=1)\n",
    "rounded_array\n",
    "# answer"
   ]
  },
  {
   "cell_type": "code",
   "execution_count": 56,
   "id": "ec030dfb",
   "metadata": {},
   "outputs": [],
   "source": [
    "sub = pd.read_csv('sample_submission.csv')"
   ]
  },
  {
   "cell_type": "code",
   "execution_count": 57,
   "id": "ed68ef9a",
   "metadata": {},
   "outputs": [],
   "source": [
    "final_array = rounded_array.ravel()"
   ]
  },
  {
   "cell_type": "code",
   "execution_count": 58,
   "id": "57a94620",
   "metadata": {},
   "outputs": [],
   "source": [
    "final = pd.DataFrame({\"id\":sub[\"id\"],\n",
    "                    \"Exited\":final_array})"
   ]
  },
  {
   "cell_type": "code",
   "execution_count": 59,
   "id": "1921eb0c",
   "metadata": {},
   "outputs": [],
   "source": [
    "final.to_csv(\"submission.csv\",index=False)"
   ]
  },
  {
   "cell_type": "markdown",
   "id": "8e610086",
   "metadata": {},
   "source": [
    "# USING MIN MAX"
   ]
  },
  {
   "cell_type": "code",
   "execution_count": 60,
   "id": "5a61d90e",
   "metadata": {},
   "outputs": [],
   "source": [
    "from sklearn.preprocessing import MinMaxScaler\n",
    "mx = MinMaxScaler()\n",
    "\n",
    "X_train_mx = mx.fit_transform(X_train)\n",
    "X_test_mx = mx.fit_transform(X_test)"
   ]
  },
  {
   "cell_type": "code",
   "execution_count": 61,
   "id": "36e18eec",
   "metadata": {},
   "outputs": [],
   "source": [
    "model1 = Sequential()\n",
    "model1.add(Dense(11,activation = 'relu',input_dim = 11))\n",
    "model1.add(Dense(5,activation = 'relu'))\n",
    "model1.add(Dense(5,activation = 'relu'))\n",
    "# model1.add(Dense(4,activation = 'relu'))\n",
    "model1.add(Dense(1,activation = 'sigmoid'))"
   ]
  },
  {
   "cell_type": "code",
   "execution_count": 62,
   "id": "6895ae6f",
   "metadata": {},
   "outputs": [
    {
     "name": "stdout",
     "output_type": "stream",
     "text": [
      "Model: \"sequential_3\"\n",
      "_________________________________________________________________\n",
      " Layer (type)                Output Shape              Param #   \n",
      "=================================================================\n",
      " dense_12 (Dense)            (None, 11)                132       \n",
      "                                                                 \n",
      " dense_13 (Dense)            (None, 5)                 60        \n",
      "                                                                 \n",
      " dense_14 (Dense)            (None, 5)                 30        \n",
      "                                                                 \n",
      " dense_15 (Dense)            (None, 1)                 6         \n",
      "                                                                 \n",
      "=================================================================\n",
      "Total params: 228 (912.00 Byte)\n",
      "Trainable params: 228 (912.00 Byte)\n",
      "Non-trainable params: 0 (0.00 Byte)\n",
      "_________________________________________________________________\n"
     ]
    }
   ],
   "source": [
    "model1.summary()"
   ]
  },
  {
   "cell_type": "code",
   "execution_count": 63,
   "id": "85299a15",
   "metadata": {},
   "outputs": [],
   "source": [
    "model1.compile(loss='binary_crossentropy',optimizer = 'Adam',metrics=['accuracy'])"
   ]
  },
  {
   "cell_type": "code",
   "execution_count": 64,
   "id": "ae3dde73",
   "metadata": {},
   "outputs": [
    {
     "name": "stdout",
     "output_type": "stream",
     "text": [
      "Epoch 1/150\n",
      "4126/4126 - 4s - loss: 0.4089 - accuracy: 0.8247 - 4s/epoch - 952us/step\n",
      "Epoch 2/150\n",
      "4126/4126 - 3s - loss: 0.3562 - accuracy: 0.8495 - 3s/epoch - 769us/step\n",
      "Epoch 3/150\n",
      "4126/4126 - 4s - loss: 0.3396 - accuracy: 0.8562 - 4s/epoch - 855us/step\n",
      "Epoch 4/150\n",
      "4126/4126 - 4s - loss: 0.3351 - accuracy: 0.8590 - 4s/epoch - 897us/step\n",
      "Epoch 5/150\n",
      "4126/4126 - 3s - loss: 0.3333 - accuracy: 0.8596 - 3s/epoch - 836us/step\n",
      "Epoch 6/150\n",
      "4126/4126 - 3s - loss: 0.3323 - accuracy: 0.8599 - 3s/epoch - 764us/step\n",
      "Epoch 7/150\n",
      "4126/4126 - 4s - loss: 0.3315 - accuracy: 0.8604 - 4s/epoch - 900us/step\n",
      "Epoch 8/150\n",
      "4126/4126 - 3s - loss: 0.3309 - accuracy: 0.8610 - 3s/epoch - 687us/step\n",
      "Epoch 9/150\n",
      "4126/4126 - 4s - loss: 0.3302 - accuracy: 0.8610 - 4s/epoch - 964us/step\n",
      "Epoch 10/150\n",
      "4126/4126 - 4s - loss: 0.3297 - accuracy: 0.8615 - 4s/epoch - 923us/step\n",
      "Epoch 11/150\n",
      "4126/4126 - 3s - loss: 0.3292 - accuracy: 0.8613 - 3s/epoch - 652us/step\n",
      "Epoch 12/150\n",
      "4126/4126 - 3s - loss: 0.3289 - accuracy: 0.8618 - 3s/epoch - 703us/step\n",
      "Epoch 13/150\n",
      "4126/4126 - 3s - loss: 0.3287 - accuracy: 0.8620 - 3s/epoch - 760us/step\n",
      "Epoch 14/150\n",
      "4126/4126 - 3s - loss: 0.3280 - accuracy: 0.8624 - 3s/epoch - 764us/step\n",
      "Epoch 15/150\n",
      "4126/4126 - 5s - loss: 0.3278 - accuracy: 0.8624 - 5s/epoch - 1ms/step\n",
      "Epoch 16/150\n",
      "4126/4126 - 5s - loss: 0.3274 - accuracy: 0.8625 - 5s/epoch - 1ms/step\n",
      "Epoch 17/150\n",
      "4126/4126 - 4s - loss: 0.3270 - accuracy: 0.8626 - 4s/epoch - 954us/step\n",
      "Epoch 18/150\n",
      "4126/4126 - 3s - loss: 0.3267 - accuracy: 0.8632 - 3s/epoch - 714us/step\n",
      "Epoch 19/150\n",
      "4126/4126 - 3s - loss: 0.3264 - accuracy: 0.8628 - 3s/epoch - 676us/step\n",
      "Epoch 20/150\n",
      "4126/4126 - 3s - loss: 0.3263 - accuracy: 0.8628 - 3s/epoch - 649us/step\n",
      "Epoch 21/150\n",
      "4126/4126 - 3s - loss: 0.3260 - accuracy: 0.8629 - 3s/epoch - 767us/step\n",
      "Epoch 22/150\n",
      "4126/4126 - 4s - loss: 0.3255 - accuracy: 0.8635 - 4s/epoch - 975us/step\n",
      "Epoch 23/150\n",
      "4126/4126 - 4s - loss: 0.3254 - accuracy: 0.8636 - 4s/epoch - 1ms/step\n",
      "Epoch 24/150\n",
      "4126/4126 - 3s - loss: 0.3252 - accuracy: 0.8633 - 3s/epoch - 704us/step\n",
      "Epoch 25/150\n",
      "4126/4126 - 3s - loss: 0.3250 - accuracy: 0.8636 - 3s/epoch - 766us/step\n",
      "Epoch 26/150\n",
      "4126/4126 - 3s - loss: 0.3251 - accuracy: 0.8637 - 3s/epoch - 765us/step\n",
      "Epoch 27/150\n",
      "4126/4126 - 3s - loss: 0.3247 - accuracy: 0.8640 - 3s/epoch - 671us/step\n",
      "Epoch 28/150\n",
      "4126/4126 - 3s - loss: 0.3247 - accuracy: 0.8639 - 3s/epoch - 801us/step\n",
      "Epoch 29/150\n",
      "4126/4126 - 3s - loss: 0.3246 - accuracy: 0.8641 - 3s/epoch - 737us/step\n",
      "Epoch 30/150\n",
      "4126/4126 - 3s - loss: 0.3244 - accuracy: 0.8638 - 3s/epoch - 758us/step\n",
      "Epoch 31/150\n",
      "4126/4126 - 3s - loss: 0.3241 - accuracy: 0.8639 - 3s/epoch - 832us/step\n",
      "Epoch 32/150\n",
      "4126/4126 - 4s - loss: 0.3241 - accuracy: 0.8641 - 4s/epoch - 860us/step\n",
      "Epoch 33/150\n",
      "4126/4126 - 3s - loss: 0.3238 - accuracy: 0.8642 - 3s/epoch - 772us/step\n",
      "Epoch 34/150\n",
      "4126/4126 - 3s - loss: 0.3238 - accuracy: 0.8639 - 3s/epoch - 733us/step\n",
      "Epoch 35/150\n",
      "4126/4126 - 3s - loss: 0.3237 - accuracy: 0.8646 - 3s/epoch - 673us/step\n",
      "Epoch 36/150\n",
      "4126/4126 - 3s - loss: 0.3238 - accuracy: 0.8640 - 3s/epoch - 716us/step\n",
      "Epoch 37/150\n",
      "4126/4126 - 4s - loss: 0.3236 - accuracy: 0.8646 - 4s/epoch - 851us/step\n",
      "Epoch 38/150\n",
      "4126/4126 - 3s - loss: 0.3236 - accuracy: 0.8642 - 3s/epoch - 712us/step\n",
      "Epoch 39/150\n",
      "4126/4126 - 3s - loss: 0.3234 - accuracy: 0.8646 - 3s/epoch - 665us/step\n",
      "Epoch 40/150\n",
      "4126/4126 - 3s - loss: 0.3236 - accuracy: 0.8643 - 3s/epoch - 793us/step\n",
      "Epoch 41/150\n",
      "4126/4126 - 3s - loss: 0.3234 - accuracy: 0.8647 - 3s/epoch - 649us/step\n",
      "Epoch 42/150\n",
      "4126/4126 - 3s - loss: 0.3233 - accuracy: 0.8643 - 3s/epoch - 713us/step\n",
      "Epoch 43/150\n",
      "4126/4126 - 4s - loss: 0.3233 - accuracy: 0.8645 - 4s/epoch - 904us/step\n",
      "Epoch 44/150\n",
      "4126/4126 - 3s - loss: 0.3235 - accuracy: 0.8642 - 3s/epoch - 716us/step\n",
      "Epoch 45/150\n",
      "4126/4126 - 3s - loss: 0.3233 - accuracy: 0.8642 - 3s/epoch - 766us/step\n",
      "Epoch 46/150\n",
      "4126/4126 - 3s - loss: 0.3233 - accuracy: 0.8648 - 3s/epoch - 834us/step\n",
      "Epoch 47/150\n",
      "4126/4126 - 3s - loss: 0.3233 - accuracy: 0.8646 - 3s/epoch - 801us/step\n",
      "Epoch 48/150\n",
      "4126/4126 - 4s - loss: 0.3232 - accuracy: 0.8645 - 4s/epoch - 853us/step\n",
      "Epoch 49/150\n",
      "4126/4126 - 3s - loss: 0.3234 - accuracy: 0.8645 - 3s/epoch - 735us/step\n",
      "Epoch 50/150\n",
      "4126/4126 - 5s - loss: 0.3229 - accuracy: 0.8648 - 5s/epoch - 1ms/step\n",
      "Epoch 51/150\n",
      "4126/4126 - 5s - loss: 0.3232 - accuracy: 0.8644 - 5s/epoch - 1ms/step\n",
      "Epoch 52/150\n",
      "4126/4126 - 3s - loss: 0.3231 - accuracy: 0.8646 - 3s/epoch - 718us/step\n",
      "Epoch 53/150\n",
      "4126/4126 - 3s - loss: 0.3231 - accuracy: 0.8646 - 3s/epoch - 669us/step\n",
      "Epoch 54/150\n",
      "4126/4126 - 4s - loss: 0.3231 - accuracy: 0.8645 - 4s/epoch - 869us/step\n",
      "Epoch 55/150\n",
      "4126/4126 - 3s - loss: 0.3232 - accuracy: 0.8645 - 3s/epoch - 793us/step\n",
      "Epoch 56/150\n",
      "4126/4126 - 3s - loss: 0.3229 - accuracy: 0.8644 - 3s/epoch - 790us/step\n",
      "Epoch 57/150\n",
      "4126/4126 - 3s - loss: 0.3230 - accuracy: 0.8644 - 3s/epoch - 757us/step\n",
      "Epoch 58/150\n",
      "4126/4126 - 3s - loss: 0.3230 - accuracy: 0.8648 - 3s/epoch - 843us/step\n",
      "Epoch 59/150\n",
      "4126/4126 - 3s - loss: 0.3230 - accuracy: 0.8645 - 3s/epoch - 662us/step\n",
      "Epoch 60/150\n",
      "4126/4126 - 4s - loss: 0.3229 - accuracy: 0.8647 - 4s/epoch - 882us/step\n",
      "Epoch 61/150\n",
      "4126/4126 - 3s - loss: 0.3229 - accuracy: 0.8650 - 3s/epoch - 679us/step\n",
      "Epoch 62/150\n",
      "4126/4126 - 3s - loss: 0.3229 - accuracy: 0.8647 - 3s/epoch - 746us/step\n",
      "Epoch 63/150\n",
      "4126/4126 - 3s - loss: 0.3228 - accuracy: 0.8651 - 3s/epoch - 664us/step\n",
      "Epoch 64/150\n",
      "4126/4126 - 3s - loss: 0.3227 - accuracy: 0.8646 - 3s/epoch - 746us/step\n",
      "Epoch 65/150\n",
      "4126/4126 - 3s - loss: 0.3228 - accuracy: 0.8645 - 3s/epoch - 735us/step\n",
      "Epoch 66/150\n",
      "4126/4126 - 3s - loss: 0.3227 - accuracy: 0.8649 - 3s/epoch - 751us/step\n",
      "Epoch 67/150\n",
      "4126/4126 - 3s - loss: 0.3228 - accuracy: 0.8644 - 3s/epoch - 827us/step\n",
      "Epoch 68/150\n",
      "4126/4126 - 3s - loss: 0.3228 - accuracy: 0.8646 - 3s/epoch - 720us/step\n",
      "Epoch 69/150\n",
      "4126/4126 - 3s - loss: 0.3227 - accuracy: 0.8648 - 3s/epoch - 844us/step\n",
      "Epoch 70/150\n",
      "4126/4126 - 4s - loss: 0.3227 - accuracy: 0.8650 - 4s/epoch - 912us/step\n",
      "Epoch 71/150\n",
      "4126/4126 - 3s - loss: 0.3227 - accuracy: 0.8649 - 3s/epoch - 741us/step\n",
      "Epoch 72/150\n",
      "4126/4126 - 3s - loss: 0.3227 - accuracy: 0.8645 - 3s/epoch - 695us/step\n",
      "Epoch 73/150\n",
      "4126/4126 - 3s - loss: 0.3227 - accuracy: 0.8648 - 3s/epoch - 714us/step\n",
      "Epoch 74/150\n",
      "4126/4126 - 3s - loss: 0.3225 - accuracy: 0.8650 - 3s/epoch - 707us/step\n",
      "Epoch 75/150\n",
      "4126/4126 - 3s - loss: 0.3228 - accuracy: 0.8646 - 3s/epoch - 840us/step\n",
      "Epoch 76/150\n",
      "4126/4126 - 3s - loss: 0.3225 - accuracy: 0.8650 - 3s/epoch - 718us/step\n",
      "Epoch 77/150\n",
      "4126/4126 - 3s - loss: 0.3225 - accuracy: 0.8650 - 3s/epoch - 740us/step\n",
      "Epoch 78/150\n",
      "4126/4126 - 3s - loss: 0.3225 - accuracy: 0.8645 - 3s/epoch - 642us/step\n",
      "Epoch 79/150\n",
      "4126/4126 - 3s - loss: 0.3226 - accuracy: 0.8647 - 3s/epoch - 656us/step\n",
      "Epoch 80/150\n",
      "4126/4126 - 3s - loss: 0.3226 - accuracy: 0.8649 - 3s/epoch - 674us/step\n",
      "Epoch 81/150\n",
      "4126/4126 - 4s - loss: 0.3225 - accuracy: 0.8651 - 4s/epoch - 1ms/step\n",
      "Epoch 82/150\n",
      "4126/4126 - 3s - loss: 0.3225 - accuracy: 0.8650 - 3s/epoch - 674us/step\n",
      "Epoch 83/150\n",
      "4126/4126 - 4s - loss: 0.3228 - accuracy: 0.8647 - 4s/epoch - 873us/step\n",
      "Epoch 84/150\n",
      "4126/4126 - 3s - loss: 0.3222 - accuracy: 0.8646 - 3s/epoch - 717us/step\n",
      "Epoch 85/150\n",
      "4126/4126 - 3s - loss: 0.3225 - accuracy: 0.8645 - 3s/epoch - 688us/step\n",
      "Epoch 86/150\n",
      "4126/4126 - 3s - loss: 0.3225 - accuracy: 0.8648 - 3s/epoch - 822us/step\n",
      "Epoch 87/150\n",
      "4126/4126 - 3s - loss: 0.3225 - accuracy: 0.8654 - 3s/epoch - 716us/step\n",
      "Epoch 88/150\n",
      "4126/4126 - 3s - loss: 0.3224 - accuracy: 0.8652 - 3s/epoch - 700us/step\n",
      "Epoch 89/150\n",
      "4126/4126 - 4s - loss: 0.3225 - accuracy: 0.8647 - 4s/epoch - 998us/step\n",
      "Epoch 90/150\n",
      "4126/4126 - 3s - loss: 0.3223 - accuracy: 0.8650 - 3s/epoch - 643us/step\n",
      "Epoch 91/150\n",
      "4126/4126 - 5s - loss: 0.3225 - accuracy: 0.8650 - 5s/epoch - 1ms/step\n",
      "Epoch 92/150\n",
      "4126/4126 - 4s - loss: 0.3224 - accuracy: 0.8648 - 4s/epoch - 926us/step\n",
      "Epoch 93/150\n",
      "4126/4126 - 3s - loss: 0.3226 - accuracy: 0.8651 - 3s/epoch - 801us/step\n",
      "Epoch 94/150\n",
      "4126/4126 - 3s - loss: 0.3225 - accuracy: 0.8647 - 3s/epoch - 714us/step\n",
      "Epoch 95/150\n",
      "4126/4126 - 4s - loss: 0.3224 - accuracy: 0.8649 - 4s/epoch - 928us/step\n",
      "Epoch 96/150\n",
      "4126/4126 - 3s - loss: 0.3223 - accuracy: 0.8648 - 3s/epoch - 701us/step\n"
     ]
    },
    {
     "name": "stdout",
     "output_type": "stream",
     "text": [
      "Epoch 97/150\n",
      "4126/4126 - 3s - loss: 0.3224 - accuracy: 0.8650 - 3s/epoch - 695us/step\n",
      "Epoch 98/150\n",
      "4126/4126 - 3s - loss: 0.3223 - accuracy: 0.8650 - 3s/epoch - 755us/step\n",
      "Epoch 99/150\n",
      "4126/4126 - 3s - loss: 0.3224 - accuracy: 0.8648 - 3s/epoch - 695us/step\n",
      "Epoch 100/150\n",
      "4126/4126 - 3s - loss: 0.3222 - accuracy: 0.8651 - 3s/epoch - 714us/step\n",
      "Epoch 101/150\n",
      "4126/4126 - 3s - loss: 0.3223 - accuracy: 0.8651 - 3s/epoch - 719us/step\n",
      "Epoch 102/150\n",
      "4126/4126 - 3s - loss: 0.3223 - accuracy: 0.8646 - 3s/epoch - 802us/step\n",
      "Epoch 103/150\n",
      "4126/4126 - 3s - loss: 0.3223 - accuracy: 0.8650 - 3s/epoch - 640us/step\n",
      "Epoch 104/150\n",
      "4126/4126 - 3s - loss: 0.3223 - accuracy: 0.8644 - 3s/epoch - 733us/step\n",
      "Epoch 105/150\n",
      "4126/4126 - 3s - loss: 0.3222 - accuracy: 0.8652 - 3s/epoch - 738us/step\n",
      "Epoch 106/150\n",
      "4126/4126 - 4s - loss: 0.3224 - accuracy: 0.8654 - 4s/epoch - 881us/step\n",
      "Epoch 107/150\n",
      "4126/4126 - 3s - loss: 0.3221 - accuracy: 0.8652 - 3s/epoch - 750us/step\n",
      "Epoch 108/150\n",
      "4126/4126 - 3s - loss: 0.3223 - accuracy: 0.8652 - 3s/epoch - 830us/step\n",
      "Epoch 109/150\n",
      "4126/4126 - 3s - loss: 0.3223 - accuracy: 0.8648 - 3s/epoch - 826us/step\n",
      "Epoch 110/150\n",
      "4126/4126 - 3s - loss: 0.3222 - accuracy: 0.8652 - 3s/epoch - 661us/step\n",
      "Epoch 111/150\n",
      "4126/4126 - 3s - loss: 0.3222 - accuracy: 0.8648 - 3s/epoch - 807us/step\n",
      "Epoch 112/150\n",
      "4126/4126 - 3s - loss: 0.3224 - accuracy: 0.8650 - 3s/epoch - 697us/step\n",
      "Epoch 113/150\n",
      "4126/4126 - 3s - loss: 0.3222 - accuracy: 0.8651 - 3s/epoch - 727us/step\n",
      "Epoch 114/150\n",
      "4126/4126 - 4s - loss: 0.3223 - accuracy: 0.8648 - 4s/epoch - 973us/step\n",
      "Epoch 115/150\n",
      "4126/4126 - 4s - loss: 0.3223 - accuracy: 0.8647 - 4s/epoch - 1ms/step\n",
      "Epoch 116/150\n",
      "4126/4126 - 3s - loss: 0.3222 - accuracy: 0.8648 - 3s/epoch - 773us/step\n",
      "Epoch 117/150\n",
      "4126/4126 - 3s - loss: 0.3222 - accuracy: 0.8646 - 3s/epoch - 794us/step\n",
      "Epoch 118/150\n",
      "4126/4126 - 3s - loss: 0.3221 - accuracy: 0.8649 - 3s/epoch - 777us/step\n",
      "Epoch 119/150\n",
      "4126/4126 - 3s - loss: 0.3221 - accuracy: 0.8652 - 3s/epoch - 761us/step\n",
      "Epoch 120/150\n",
      "4126/4126 - 3s - loss: 0.3222 - accuracy: 0.8651 - 3s/epoch - 805us/step\n",
      "Epoch 121/150\n",
      "4126/4126 - 3s - loss: 0.3221 - accuracy: 0.8657 - 3s/epoch - 716us/step\n",
      "Epoch 122/150\n",
      "4126/4126 - 3s - loss: 0.3223 - accuracy: 0.8646 - 3s/epoch - 613us/step\n",
      "Epoch 123/150\n",
      "4126/4126 - 3s - loss: 0.3221 - accuracy: 0.8652 - 3s/epoch - 705us/step\n",
      "Epoch 124/150\n",
      "4126/4126 - 3s - loss: 0.3222 - accuracy: 0.8650 - 3s/epoch - 646us/step\n",
      "Epoch 125/150\n",
      "4126/4126 - 3s - loss: 0.3221 - accuracy: 0.8652 - 3s/epoch - 720us/step\n",
      "Epoch 126/150\n",
      "4126/4126 - 3s - loss: 0.3221 - accuracy: 0.8649 - 3s/epoch - 671us/step\n",
      "Epoch 127/150\n",
      "4126/4126 - 3s - loss: 0.3222 - accuracy: 0.8649 - 3s/epoch - 705us/step\n",
      "Epoch 128/150\n",
      "4126/4126 - 3s - loss: 0.3221 - accuracy: 0.8653 - 3s/epoch - 710us/step\n",
      "Epoch 129/150\n",
      "4126/4126 - 3s - loss: 0.3220 - accuracy: 0.8651 - 3s/epoch - 650us/step\n",
      "Epoch 130/150\n",
      "4126/4126 - 2s - loss: 0.3222 - accuracy: 0.8649 - 2s/epoch - 606us/step\n",
      "Epoch 131/150\n",
      "4126/4126 - 3s - loss: 0.3220 - accuracy: 0.8649 - 3s/epoch - 696us/step\n",
      "Epoch 132/150\n",
      "4126/4126 - 3s - loss: 0.3221 - accuracy: 0.8648 - 3s/epoch - 744us/step\n",
      "Epoch 133/150\n",
      "4126/4126 - 3s - loss: 0.3221 - accuracy: 0.8650 - 3s/epoch - 663us/step\n",
      "Epoch 134/150\n",
      "4126/4126 - 3s - loss: 0.3221 - accuracy: 0.8650 - 3s/epoch - 789us/step\n",
      "Epoch 135/150\n",
      "4126/4126 - 3s - loss: 0.3221 - accuracy: 0.8651 - 3s/epoch - 634us/step\n",
      "Epoch 136/150\n",
      "4126/4126 - 3s - loss: 0.3221 - accuracy: 0.8651 - 3s/epoch - 638us/step\n",
      "Epoch 137/150\n",
      "4126/4126 - 3s - loss: 0.3221 - accuracy: 0.8649 - 3s/epoch - 655us/step\n",
      "Epoch 138/150\n",
      "4126/4126 - 3s - loss: 0.3221 - accuracy: 0.8650 - 3s/epoch - 696us/step\n",
      "Epoch 139/150\n",
      "4126/4126 - 3s - loss: 0.3219 - accuracy: 0.8651 - 3s/epoch - 666us/step\n",
      "Epoch 140/150\n",
      "4126/4126 - 3s - loss: 0.3220 - accuracy: 0.8655 - 3s/epoch - 683us/step\n",
      "Epoch 141/150\n",
      "4126/4126 - 4s - loss: 0.3220 - accuracy: 0.8651 - 4s/epoch - 908us/step\n",
      "Epoch 142/150\n",
      "4126/4126 - 3s - loss: 0.3221 - accuracy: 0.8651 - 3s/epoch - 812us/step\n",
      "Epoch 143/150\n",
      "4126/4126 - 3s - loss: 0.3221 - accuracy: 0.8653 - 3s/epoch - 722us/step\n",
      "Epoch 144/150\n",
      "4126/4126 - 3s - loss: 0.3220 - accuracy: 0.8649 - 3s/epoch - 764us/step\n",
      "Epoch 145/150\n",
      "4126/4126 - 3s - loss: 0.3220 - accuracy: 0.8653 - 3s/epoch - 731us/step\n",
      "Epoch 146/150\n",
      "4126/4126 - 4s - loss: 0.3222 - accuracy: 0.8652 - 4s/epoch - 948us/step\n",
      "Epoch 147/150\n",
      "4126/4126 - 4s - loss: 0.3220 - accuracy: 0.8649 - 4s/epoch - 986us/step\n",
      "Epoch 148/150\n",
      "4126/4126 - 4s - loss: 0.3220 - accuracy: 0.8655 - 4s/epoch - 1ms/step\n",
      "Epoch 149/150\n",
      "4126/4126 - 4s - loss: 0.3219 - accuracy: 0.8655 - 4s/epoch - 992us/step\n",
      "Epoch 150/150\n",
      "4126/4126 - 4s - loss: 0.3220 - accuracy: 0.8658 - 4s/epoch - 980us/step\n"
     ]
    },
    {
     "data": {
      "text/plain": [
       "<keras.src.callbacks.History at 0x24770c24520>"
      ]
     },
     "execution_count": 64,
     "metadata": {},
     "output_type": "execute_result"
    }
   ],
   "source": [
    "model1.fit(X_train_mx,y_train,epochs = 150,verbose =2)"
   ]
  },
  {
   "cell_type": "code",
   "execution_count": 65,
   "id": "a0b0690d",
   "metadata": {},
   "outputs": [
    {
     "name": "stdout",
     "output_type": "stream",
     "text": [
      "1032/1032 [==============================] - 1s 711us/step\n"
     ]
    }
   ],
   "source": [
    "y_pred1 = model1.predict(X_test_mx)"
   ]
  },
  {
   "cell_type": "code",
   "execution_count": 66,
   "id": "3ce175e5",
   "metadata": {},
   "outputs": [],
   "source": [
    "fpr1, tpr1,thresholds1 = roc_curve(y_test,y_pred1)\n",
    "roc_auc1 = auc(fpr1,tpr1)"
   ]
  },
  {
   "cell_type": "code",
   "execution_count": 67,
   "id": "ffbce118",
   "metadata": {},
   "outputs": [
    {
     "data": {
      "image/png": "[encoded data removed]",
      "text/plain": [
       "<Figure size 800x800 with 1 Axes>"
      ]
     },
     "metadata": {},
     "output_type": "display_data"
    }
   ],
   "source": [
    "plt.figure(figsize=(8, 8))\n",
    "plt.plot(fpr1, tpr1, color='darkorange', lw=2, label='ROC curve (AUC = {:.2f})'.format(roc_auc1))\n",
    "plt.plot([0, 1], [0, 1], color='navy', lw=2, linestyle='--')\n",
    "plt.xlabel('False Positive Rate')\n",
    "plt.ylabel('True Positive Rate')\n",
    "plt.title('Receiver Operating Characteristic (ROC) Curve')\n",
    "plt.legend(loc='lower right')\n",
    "plt.show()"
   ]
  },
  {
   "cell_type": "code",
   "execution_count": 68,
   "id": "a2ac5aab",
   "metadata": {},
   "outputs": [
    {
     "data": {
      "text/plain": [
       "0.8860187228982557"
      ]
     },
     "execution_count": 68,
     "metadata": {},
     "output_type": "execute_result"
    }
   ],
   "source": [
    "roc_auc1"
   ]
  },
  {
   "cell_type": "code",
   "execution_count": 69,
   "id": "0cf2832e",
   "metadata": {},
   "outputs": [],
   "source": [
    "dff_test_mx =mx.fit_transform(dff_test)"
   ]
  },
  {
   "cell_type": "code",
   "execution_count": 70,
   "id": "3987b853",
   "metadata": {},
   "outputs": [
    {
     "name": "stdout",
     "output_type": "stream",
     "text": [
      "3439/3439 [==============================] - 4s 1ms/step\n"
     ]
    }
   ],
   "source": [
    "answer1 = model1.predict(dff_test_mx)"
   ]
  },
  {
   "cell_type": "code",
   "execution_count": 71,
   "id": "e34486ca",
   "metadata": {},
   "outputs": [
    {
     "data": {
      "text/plain": [
       "array([[0. ],\n",
       "       [0.9],\n",
       "       [0. ],\n",
       "       ...,\n",
       "       [0. ],\n",
       "       [0.2],\n",
       "       [0.2]], dtype=float32)"
      ]
     },
     "execution_count": 71,
     "metadata": {},
     "output_type": "execute_result"
    }
   ],
   "source": [
    "rounded_array1 = np.around(answer1, decimals=1)\n",
    "rounded_array1"
   ]
  },
  {
   "cell_type": "code",
   "execution_count": 72,
   "id": "04f9fcad",
   "metadata": {},
   "outputs": [],
   "source": [
    "final_array1 = rounded_array1.ravel()\n",
    "final1 = pd.DataFrame({\"id\":sub[\"id\"],\n",
    "                    \"Exited\":final_array1})"
   ]
  },
  {
   "cell_type": "code",
   "execution_count": 73,
   "id": "45a55d31",
   "metadata": {},
   "outputs": [],
   "source": [
    "final1.to_csv(\"submission1.csv\",index=False)"
   ]
  },
  {
   "cell_type": "code",
   "execution_count": null,
   "id": "63707e9f",
   "metadata": {},
   "outputs": [],
   "source": []
  },
  {
   "cell_type": "code",
   "execution_count": null,
   "id": "8ea5cda1",
   "metadata": {},
   "outputs": [],
   "source": []
  },
  {
   "cell_type": "code",
   "execution_count": null,
   "id": "d4ed16b9",
   "metadata": {},
   "outputs": [],
   "source": []
  }
 ],
 "metadata": {
  "kernelspec": {
   "display_name": "Python 3 (ipykernel)",
   "language": "python",
   "name": "python3"
  },
  "language_info": {
   "codemirror_mode": {
    "name": "ipython",
    "version": 3
   },
   "file_extension": ".py",
   "mimetype": "text/x-python",
   "name": "python",
   "nbconvert_exporter": "python",
   "pygments_lexer": "ipython3",
   "version": "3.8.10"
  }
 },
 "nbformat": 4,
 "nbformat_minor": 5
}
